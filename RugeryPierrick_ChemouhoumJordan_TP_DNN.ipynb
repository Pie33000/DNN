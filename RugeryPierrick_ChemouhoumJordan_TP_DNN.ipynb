{
 "cells": [
  {
   "cell_type": "markdown",
   "metadata": {},
   "source": [
    "### <font color=darkred> [MSA : Modélisation, Apprentissage et Applications] </font>\n",
    "### <font color = darkblue> <div style=\"text-align: center\"> TP - Deep Neural Networks\n",
    "### <font color = darkgreen> <div style=\"text-align: center\"> Traitements statistiques des données en grande dimension \n",
    "#### <font color = darkblue> <div style=\"text-align: right\"> Binôme : Jordan CHEMOUHOUM, Pierrick RUGERY\n",
    "\n"
   ]
  },
  {
   "cell_type": "markdown",
   "metadata": {},
   "source": [
    "Consignes rapport : \n",
    "- pas coller le code, on envoie le code a part (jupyter notebook)\n",
    "- 1er partie : expliquer brièvement à ce qu'on a fait avec le RBM. Réussit à faire pour un carac, mais problème pour plusieurs carac\n",
    "- 2eme partie : Pareil pour le DBN. Epxliquer les spécificités du code pour la réutilisation\n",
    "- 3eme partie DNN: grande étude à faire. Le sujet principal est : DNN préentrainé vs DNN initialisé aléatoirement. On doit pas forcément comparé des entropies croisées, ce qui va être important, c'est la finalité: les taux de bonne classification. On doit travailler sur exactement les mêmes données, et comparer un DNN préentrainé et un DNN non préentrainé. On doit les comparer en fonction : \n",
    "        - du nombre de données Train(1000 puis 5000 puis 10 000, 30 000, 60 000 etc). Faire la classif sur les 10 000 données de la base test. Garder la même architecture évidemment. \n",
    "             - dans le nombre de données, faire aussi en fonction de l'architecture (faire 2 architectures). (save DNN pour plus réentrainé).\n",
    "        - en fonction du nombre de couches. Prendre ici les 60 000 données Train. (1,2,...,5,6), et fixer un nombre de neurones par couche. Pour une étude complète par exemple faire cela une fois avec 50 neuroens par couche, et un autre avec 500 neurones par couche. \n",
    "         - en fonction de neurones/couches (50,100,200)\n",
    "         \n",
    "Faire des courbes.\n",
    "Le prof prend 0.01 pour le learning rate et batch_size pour 1. "
   ]
  },
  {
   "cell_type": "markdown",
   "metadata": {},
   "source": [
    "#### Importation des librairies"
   ]
  },
  {
   "cell_type": "code",
   "execution_count": 1,
   "metadata": {},
   "outputs": [],
   "source": [
    "import scipy.io\n",
    "import numpy as np\n",
    "import random as rd\n",
    "from PIL import Image\n",
    "import matplotlib.pyplot as plt \n",
    "import pandas as pd\n",
    "from sklearn.model_selection import train_test_split\n",
    "from mlxtend.data import loadlocal_mnist\n",
    "%matplotlib inline"
   ]
  },
  {
   "cell_type": "markdown",
   "metadata": {},
   "source": [
    "# III) Fonctions élémentaires"
   ]
  },
  {
   "cell_type": "markdown",
   "metadata": {},
   "source": [
    "## III.1) Construction d'un RBM et test sur Binary Alpha Digits"
   ]
  },
  {
   "cell_type": "code",
   "execution_count": 2,
   "metadata": {},
   "outputs": [],
   "source": [
    "'''\n",
    "Définition de la classe RBM\n",
    "'''\n",
    "class RBM:\n",
    "\n",
    "    def __init__(self,W, B, A):\n",
    "        self.W = W\n",
    "        self.B = B\n",
    "        self.A = A\n",
    "\n",
    "    @property\n",
    "    def W(self):\n",
    "        return self.__W\n",
    "\n",
    "    @property\n",
    "    def B(self):\n",
    "        return self.__B\n",
    "    @property\n",
    "    def A(self):\n",
    "        return self.__A\n",
    "    @W.setter\n",
    "    def W(self, W):\n",
    "        self.__W = W\n",
    "    @B.setter\n",
    "    def B(self, B):\n",
    "        self.__B = B\n",
    "    @A.setter\n",
    "    def A(self, A):\n",
    "        self.__A = A"
   ]
  },
  {
   "cell_type": "code",
   "execution_count": 3,
   "metadata": {},
   "outputs": [],
   "source": [
    "'''\n",
    "Fonction: permet de lire un fichier image\n",
    "Input: chemin vers un fichier\n",
    "Output: une matrice d'image\n",
    "'''\n",
    "\n",
    "def lire_alpha_digit(file):\n",
    "    X = pd.DataFrame(scipy.io.loadmat(file)['dat'])   \n",
    "    images = pd.DataFrame(np.zeros((1404, 20*16), dtype=np.int8))\n",
    "    ligne = 0\n",
    "    for i in range(X.shape[0]):\n",
    "        for j in range(X.shape[1]):\n",
    "            images.iloc[ligne,:] = np.concatenate([X.iloc[i,j][k] for k in range(20)])\n",
    "            ligne += 1\n",
    "    return images.as_matrix()"
   ]
  },
  {
   "cell_type": "code",
   "execution_count": 4,
   "metadata": {},
   "outputs": [],
   "source": [
    "'''\n",
    "Input:\n",
    "    p : taille de la couche d'entrée\n",
    "    q : taille de la couche de sortie\n",
    "Output:\n",
    "    rbm : un object RBM \n",
    "'''\n",
    "def init_rbm(p,q):\n",
    "    B = np.zeros(q)\n",
    "    A = np.zeros(p)\n",
    "    rbm = RBM(W=0.01 * np.random.randn(p, q), B=B, A=A)\n",
    "    return rbm"
   ]
  },
  {
   "cell_type": "code",
   "execution_count": 69,
   "metadata": {},
   "outputs": [],
   "source": [
    "def sigmoid(x):\n",
    "    return(1/(1+np.exp(-x)))\n",
    "'''\n",
    "Input: \n",
    "    X : une matrice image\n",
    "    RBM : objet de class RBM, contenant W, A, B\n",
    "\n",
    "Output:\n",
    "    PH|V : une matrice de probabilités\n",
    "'''\n",
    "\n",
    "def entree_sortie_RBM(X,RBM):\n",
    "    B = np.array([RBM.B]*X.shape[0])\n",
    "    return sigmoid(np.dot(X,RBM.W) - B)"
   ]
  },
  {
   "cell_type": "code",
   "execution_count": 6,
   "metadata": {},
   "outputs": [],
   "source": [
    "'''\n",
    "Input:\n",
    "    H : matrice de probabilités\n",
    "    RBM : objet de class RBM, contenant W, A, B\n",
    "\n",
    "Output:\n",
    "    PV|H : matrice de probabilités\n",
    "'''\n",
    "\n",
    "def sortie_entree_RBM(H,RBM):\n",
    "    A = np.array([RBM.A]*H.shape[0])\n",
    "    return sigmoid(np.dot(H,np.transpose(RBM.W)) + A)"
   ]
  },
  {
   "cell_type": "code",
   "execution_count": 7,
   "metadata": {},
   "outputs": [],
   "source": [
    "'''\n",
    "Input: \n",
    "    X : matrice image\n",
    "    RBM : objet de class RBM, contenant W, A, B\n",
    "    batch_size : int, taille de nos batchs\n",
    "    nb_iteration : int, nombre d'itérations\n",
    "    alpha : le learning rate\n",
    "\n",
    "Output:\n",
    "    un objet RBM entrainé et une liste contenant les erreurs quadratiques moyennes\n",
    "'''\n",
    "def train_RBM(X,RBM,batch_size,nb_iteration,alpha):\n",
    "    EQM = []\n",
    "    for iteration in range(nb_iteration):\n",
    "        #shuffle inplace\n",
    "        np.random.shuffle(X)\n",
    "        p,q = RBM.W.shape\n",
    "        for j in range(0,X.shape[0],batch_size):\n",
    "            # selection des données\n",
    "            data = X[j:min(j + batch_size, len(X)),:]\n",
    "            n = len(data)\n",
    "            \n",
    "            #CD_1\n",
    "                #tirage selon H|V0. Donne un tableau de False/True, mais numpy sait que c'est des 0 ou 1\n",
    "        \n",
    "            V0 = data\n",
    "            PH_V0 = entree_sortie_RBM(V0,RBM)\n",
    "            p, q = PH_V0.shape\n",
    "            H0 = np.random.rand(p,q) <= PH_V0\n",
    "            \n",
    "            PV_H0 = sortie_entree_RBM(H0,RBM)\n",
    "            p, q = PV_H0.shape\n",
    "            V1 = np.random.rand(p,q) <= PV_H0\n",
    "            PH_V1 = entree_sortie_RBM(V1,RBM)\n",
    "\n",
    "            #calcul des gradients\n",
    "            dW = (np.dot(np.transpose(V0),PH_V0) -  np.dot(np.transpose(V1),PH_V1))/data.shape[0]\n",
    "                #somme sur les lignes\n",
    "            dA = (np.sum(V0, axis=0) - np.sum(V1, axis=0))/data.shape[0]\n",
    "            dB = (np.sum(PH_V0, axis=0) - np.sum(PH_V1, axis=0))/data.shape[0]\n",
    "\n",
    "            #Actualisation\n",
    "            RBM.W += alpha*dW\n",
    "            RBM.A += alpha*dA\n",
    "            RBM.B += alpha*dB\n",
    "        \n",
    "        e = entree_sortie_RBM(X, RBM)\n",
    "        s = sortie_entree_RBM(e, RBM)\n",
    "        EQM.append(np.mean(np.mean(X-s)**2))\n",
    "        \n",
    "    return(RBM,EQM)"
   ]
  },
  {
   "cell_type": "code",
   "execution_count": 8,
   "metadata": {},
   "outputs": [],
   "source": [
    "'''\n",
    "Input: \n",
    "    EQM : une liste contenant les erreurs quadratiques moyennes à chaque itération\n",
    "Ouput: \n",
    "    Un graphe de l'evolution de l'erreur quadratique moyenne\n",
    "'''\n",
    "def tracer_erreur(EQM):        \n",
    "    plt.plot(range(len(EQM)), EQM)\n",
    "    plt.legend(['Erreur Quadratique Moyenne'])\n",
    "    plt.title(\"Évolution de l'erreur\")"
   ]
  },
  {
   "cell_type": "code",
   "execution_count": 9,
   "metadata": {},
   "outputs": [],
   "source": [
    "'''\n",
    "Input: \n",
    "    images : une matrice(np array) contenant une image sur chaque lignes\n",
    "    size : la taille des images\n",
    "Output:\n",
    "    affiche les images\n",
    "'''\n",
    "def display(images, size):\n",
    "    for image in images:\n",
    "        image = image*255\n",
    "        plt.imshow(np.reshape(image, size),cmap='gray')\n",
    "        plt.show()"
   ]
  },
  {
   "cell_type": "code",
   "execution_count": 10,
   "metadata": {},
   "outputs": [],
   "source": [
    "'''\n",
    "Input: \n",
    "    RBM : un RBM entrainé\n",
    "    nb_iterations : le nombre d'iterations\n",
    "    nb_images : le nombre d'images à générer\n",
    "    size_image : la taille souhaitée des images à générer\n",
    "Ouput: \n",
    "    nb_images images générées\n",
    "'''\n",
    "\n",
    "def generer_image_RBM(RBM,nb_iterations,nb_images, size_image):\n",
    "    images = []\n",
    "    #initialisation\n",
    "    images = np.zeros((nb_images, RBM.W.shape[0]))\n",
    "    for i in range(nb_images):\n",
    "        X = np.random.rand(nb_images, RBM.W.shape[0])\n",
    "        comp = np.ones((nb_images, RBM.W.shape[0]))*0.5\n",
    "        X = X <= comp\n",
    "        for iteration in range(nb_iterations):    \n",
    "            PH_V = entree_sortie_RBM(X,RBM)\n",
    "            p, q = PH_V.shape\n",
    "            H = (np.random.rand(p, q)) <= (PH_V)\n",
    "            \n",
    "            PV_H = sortie_entree_RBM(H,RBM)\n",
    "            p, q = RBM.W.shape\n",
    "    \n",
    "            X = (np.random.rand(nb_images, p)) <= (PV_H)\n",
    "        images = X\n",
    "    return images"
   ]
  },
  {
   "cell_type": "code",
   "execution_count": 11,
   "metadata": {},
   "outputs": [],
   "source": [
    "'''\n",
    "Test des fonctions précédentes sur les données Binary AlphaDigits\n",
    "Output : les images générées\n",
    "'''\n",
    "def principal_RBM_Alpha():\n",
    "    \n",
    "    # Chargement des images\n",
    "    X = lire_alpha_digit('./binaryalphadigs.mat')\n",
    "    \n",
    "    # Initialisation des paramètres\n",
    "    p = X.shape[1]\n",
    "    q = 60\n",
    "    batch_size = 9\n",
    "    nb_iter = 1000\n",
    "    nb_iter_gibbs = 1000\n",
    "    nb_image = 10\n",
    "    alpha = 0.1\n",
    "    taille_image = [20,16]\n",
    "    \n",
    "    #  On mélange les données et on en sélectionne seulement 100\n",
    "    np.random.shuffle(X)\n",
    "    X = X[:99,:]\n",
    "    \n",
    "    # On initialise le RBM\n",
    "    rbm = init_rbm(p, q)\n",
    "    \n",
    "    # On l'entraine\n",
    "    rbm_train,EQM = train_RBM(X, rbm, batch_size, nb_iter, alpha)\n",
    "    \n",
    "    # On affiche l'évolution de l'erreur de reconstruction\n",
    "    tracer_erreur(EQM)\n",
    "    \n",
    "    # On génére nb_image images\n",
    "    images = generer_image_RBM(rbm_train, nb_iter_gibbs, nb_image, taille_image)\n",
    "    \n",
    "    return(images)"
   ]
  },
  {
   "cell_type": "code",
   "execution_count": 34,
   "metadata": {},
   "outputs": [
    {
     "data": {
      "image/png": "[encoded data removed]",
      "text/plain": [
       "<Figure size 432x288 with 1 Axes>"
      ]
     },
     "metadata": {
      "needs_background": "light"
     },
     "output_type": "display_data"
    }
   ],
   "source": [
    "images = principal_RBM_Alpha()"
   ]
  },
  {
   "cell_type": "code",
   "execution_count": 36,
   "metadata": {},
   "outputs": [
    {
     "data": {
      "image/png": "[encoded data removed]",
      "text/plain": [
       "<Figure size 432x288 with 1 Axes>"
      ]
     },
     "metadata": {
      "needs_background": "light"
     },
     "output_type": "display_data"
    },
    {
     "data": {
      "image/png": "[encoded data removed]",
      "text/plain": [
       "<Figure size 432x288 with 1 Axes>"
      ]
     },
     "metadata": {
      "needs_background": "light"
     },
     "output_type": "display_data"
    },
    {
     "data": {
      "image/png": "[encoded data removed]",
      "text/plain": [
       "<Figure size 432x288 with 1 Axes>"
      ]
     },
     "metadata": {
      "needs_background": "light"
     },
     "output_type": "display_data"
    },
    {
     "data": {
      "image/png": "[encoded data removed]",
      "text/plain": [
       "<Figure size 432x288 with 1 Axes>"
      ]
     },
     "metadata": {
      "needs_background": "light"
     },
     "output_type": "display_data"
    },
    {
     "data": {
      "image/png": "[encoded data removed]",
      "text/plain": [
       "<Figure size 432x288 with 1 Axes>"
      ]
     },
     "metadata": {
      "needs_background": "light"
     },
     "output_type": "display_data"
    },
    {
     "data": {
      "image/png": "[encoded data removed]",
      "text/plain": [
       "<Figure size 432x288 with 1 Axes>"
      ]
     },
     "metadata": {
      "needs_background": "light"
     },
     "output_type": "display_data"
    },
    {
     "data": {
      "image/png": "[encoded data removed]",
      "text/plain": [
       "<Figure size 432x288 with 1 Axes>"
      ]
     },
     "metadata": {
      "needs_background": "light"
     },
     "output_type": "display_data"
    },
    {
     "data": {
      "image/png": "[encoded data removed]",
      "text/plain": [
       "<Figure size 432x288 with 1 Axes>"
      ]
     },
     "metadata": {
      "needs_background": "light"
     },
     "output_type": "display_data"
    },
    {
     "data": {
      "image/png": "[encoded data removed]",
      "text/plain": [
       "<Figure size 432x288 with 1 Axes>"
      ]
     },
     "metadata": {
      "needs_background": "light"
     },
     "output_type": "display_data"
    },
    {
     "data": {
      "image/png": "[encoded data removed]",
      "text/plain": [
       "<Figure size 432x288 with 1 Axes>"
      ]
     },
     "metadata": {
      "needs_background": "light"
     },
     "output_type": "display_data"
    }
   ],
   "source": [
    "# On affiche les images générées\n",
    "display(images,[20,16])"
   ]
  },
  {
   "cell_type": "markdown",
   "metadata": {},
   "source": [
    "## III.2) Construction d'un DBN et test sur Binary Alpha Digits"
   ]
  },
  {
   "cell_type": "code",
   "execution_count": 14,
   "metadata": {},
   "outputs": [],
   "source": [
    "'''\n",
    "Input: \n",
    "    size: une liste contenant la taille des couches des RBM composants le DNN\n",
    "Output:\n",
    "    Un DNN\n",
    "'''\n",
    "def init_DNN(size):\n",
    "    DNN = []\n",
    "    for i in range(len(size)-1):\n",
    "        DNN.append(init_rbm(size[i], size[i+1]))\n",
    "    return DNN"
   ]
  },
  {
   "cell_type": "code",
   "execution_count": 46,
   "metadata": {},
   "outputs": [],
   "source": [
    "'''\n",
    "Input: \n",
    "    DNN : un DNN initialisé\n",
    "    nb_iter : le nombre d'itérations\n",
    "    alpha : le learning rate\n",
    "    minibatch_size : la taille du minibatch\n",
    "    X : une matrice d'images\n",
    "Output:\n",
    "    DNN_New : un DNN entrainé\n",
    "'''\n",
    "def train_DBN(DNN,nb_iter,alpha,minibatch_size,X):\n",
    "    DNN_new = []\n",
    "    data = X\n",
    "    for i in range(len(DNN)):\n",
    "        RBM_trained,eqm = train_RBM(data,DNN[i],minibatch_size,nb_iter,alpha)\n",
    "        DNN_new.append(RBM_trained)\n",
    "        data = entree_sortie_RBM(data,DNN[i])\n",
    "        plt.legend('couche ' + str(i))\n",
    "        \n",
    "    #calcule de l'erreur\n",
    "    data_err = X\n",
    "    for RBM in DNN:\n",
    "        PH_V = entree_sortie_RBM(data_err,RBM)\n",
    "        p, q = PH_V.shape\n",
    "        data_err = np.random.rand(p, q) <= PH_V\n",
    "\n",
    "    for RBM in DNN[::-1]:\n",
    "        PV_H = sortie_entree_RBM(data_err,RBM)\n",
    "        data_err = np.random.rand(PV_H.shape[0], PV_H.shape[1]) <= PV_H\n",
    "    \n",
    "    #print(\"L'erreur de reconstruction du DBN est : \" + str(np.mean(np.mean(X-data_err)**2)))\n",
    "    return DNN_new"
   ]
  },
  {
   "cell_type": "code",
   "execution_count": 16,
   "metadata": {},
   "outputs": [],
   "source": [
    "'''\n",
    "Input: \n",
    "    DBN : un DBN entrainé\n",
    "    nb_iterations : le nombre d'itérations\n",
    "    nb_images : le nombre d'images à générer\n",
    "    size_image : la taille souhaitée des images\n",
    "Output:\n",
    "    nb_images images générées\n",
    "'''\n",
    "\n",
    "def generer_image_DBN(DBN,nb_iterations,nb_images, size_image):   \n",
    "    images = []\n",
    "    images = np.zeros((nb_images, DBN[0].W.shape[0]))\n",
    "    for i in range(nb_images):\n",
    "        X = np.random.rand(nb_images, DBN[0].W.shape[0])\n",
    "        comp = np.ones((nb_images, DBN[0].W.shape[0]))*0.5\n",
    "        X = X <= comp\n",
    "        for iteration in range(nb_iterations):\n",
    "            \n",
    "            for RBM in DBN:\n",
    "                PH_V = entree_sortie_RBM(X,RBM)\n",
    "                p, q = PH_V.shape\n",
    "                X = (np.random.rand(p, q)) <= (PH_V)\n",
    "\n",
    "            for RBM in DBN[::-1]:\n",
    "                PV_H = sortie_entree_RBM(X,RBM)\n",
    "                p, q = RBM.W.shape\n",
    "                X = (np.random.rand(nb_images, p)) <= (PV_H)\n",
    "        images = X\n",
    "    return images "
   ]
  },
  {
   "cell_type": "code",
   "execution_count": 43,
   "metadata": {},
   "outputs": [],
   "source": [
    "'''\n",
    "Test des fonctions précédentes sur les données Binary AlphaDigits\n",
    "Output : les images générées\n",
    "'''\n",
    "def principal_DBN_alpha():\n",
    "    \n",
    "    # Chargement des images\n",
    "    X = lire_alpha_digit('./binaryalphadigs.mat')\n",
    "    \n",
    "    # Initialisation des paramètres\n",
    "    size = [320,160,80,10]\n",
    "    minibatch_size = 9\n",
    "    nb_iter = 1000\n",
    "    nb_image = 10\n",
    "    alpha = 0.1\n",
    "    size_image = [20,16]\n",
    "    \n",
    "    #  On mélange les données et on en sélectionne seulement 100\n",
    "    np.random.shuffle(X)\n",
    "    X = X[:99,:]\n",
    "    \n",
    "    # On initialise le RBM\n",
    "    DBN = init_DNN(size)\n",
    "    \n",
    "    # On l'entraine\n",
    "    DBN_train = train_DBN(DBN,nb_iter,alpha,minibatch_size,X)\n",
    "    \n",
    "    # On génére nb_image images\n",
    "    images = generer_image_DBN(DBN_train,nb_iter,nb_image, size_image)\n",
    "    \n",
    "    return images"
   ]
  },
  {
   "cell_type": "code",
   "execution_count": 44,
   "metadata": {},
   "outputs": [
    {
     "name": "stdout",
     "output_type": "stream",
     "text": [
      "L'erreur de reconstruction du DBN est : 0.0002541045317442097\n"
     ]
    },
    {
     "data": {
      "image/png": "[encoded data removed]",
      "text/plain": [
       "<Figure size 432x288 with 1 Axes>"
      ]
     },
     "metadata": {
      "needs_background": "light"
     },
     "output_type": "display_data"
    }
   ],
   "source": [
    "images = principal_DBN_alpha()"
   ]
  },
  {
   "cell_type": "code",
   "execution_count": 45,
   "metadata": {},
   "outputs": [
    {
     "data": {
      "image/png": "[encoded data removed]",
      "text/plain": [
       "<Figure size 432x288 with 1 Axes>"
      ]
     },
     "metadata": {
      "needs_background": "light"
     },
     "output_type": "display_data"
    },
    {
     "data": {
      "image/png": "[encoded data removed]",
      "text/plain": [
       "<Figure size 432x288 with 1 Axes>"
      ]
     },
     "metadata": {
      "needs_background": "light"
     },
     "output_type": "display_data"
    },
    {
     "data": {
      "image/png": "[encoded data removed]",
      "text/plain": [
       "<Figure size 432x288 with 1 Axes>"
      ]
     },
     "metadata": {
      "needs_background": "light"
     },
     "output_type": "display_data"
    },
    {
     "data": {
      "image/png": "[encoded data removed]",
      "text/plain": [
       "<Figure size 432x288 with 1 Axes>"
      ]
     },
     "metadata": {
      "needs_background": "light"
     },
     "output_type": "display_data"
    },
    {
     "data": {
      "image/png": "[encoded data removed]",
      "text/plain": [
       "<Figure size 432x288 with 1 Axes>"
      ]
     },
     "metadata": {
      "needs_background": "light"
     },
     "output_type": "display_data"
    },
    {
     "data": {
      "image/png": "[encoded data removed]",
      "text/plain": [
       "<Figure size 432x288 with 1 Axes>"
      ]
     },
     "metadata": {
      "needs_background": "light"
     },
     "output_type": "display_data"
    },
    {
     "data": {
      "image/png": "[encoded data removed]",
      "text/plain": [
       "<Figure size 432x288 with 1 Axes>"
      ]
     },
     "metadata": {
      "needs_background": "light"
     },
     "output_type": "display_data"
    },
    {
     "data": {
      "image/png": "[encoded data removed]",
      "text/plain": [
       "<Figure size 432x288 with 1 Axes>"
      ]
     },
     "metadata": {
      "needs_background": "light"
     },
     "output_type": "display_data"
    },
    {
     "data": {
      "image/png": "[encoded data removed]",
      "text/plain": [
       "<Figure size 432x288 with 1 Axes>"
      ]
     },
     "metadata": {
      "needs_background": "light"
     },
     "output_type": "display_data"
    },
    {
     "data": {
      "image/png": "[encoded data removed]",
      "text/plain": [
       "<Figure size 432x288 with 1 Axes>"
      ]
     },
     "metadata": {
      "needs_background": "light"
     },
     "output_type": "display_data"
    }
   ],
   "source": [
    "display(images,[20,16])"
   ]
  },
  {
   "cell_type": "markdown",
   "metadata": {},
   "source": [
    "## III.3) Construction d'un DNN et test sur MNIST"
   ]
  },
  {
   "cell_type": "code",
   "execution_count": 22,
   "metadata": {},
   "outputs": [],
   "source": [
    "'''\n",
    "Input:\n",
    "    data_name : fichier de données MNIST\n",
    "    label_name : fichier des labels\n",
    "    nb_data : nombre d'images voulues\n",
    "Output:\n",
    "    4 matrices: X_train, X_test, Y_train, Y_test\n",
    "'''\n",
    "def load_data(data_name, label_name, nb_data):\n",
    "    train,train_labels = loadlocal_mnist(\n",
    "    images_path=data_name,\n",
    "    labels_path=label_name)\n",
    "    train = train[:nb_data, :]\n",
    "    train_labels = train_labels[:nb_data]\n",
    "    X_train, X_test, Y_train, Y_test = train_test_split(train, train_labels, test_size=0.2, random_state=42)\n",
    "    return X_train, X_test, Y_train, Y_test"
   ]
  },
  {
   "cell_type": "code",
   "execution_count": 23,
   "metadata": {},
   "outputs": [],
   "source": [
    "'''\n",
    "Input: une matrice d'images en couleur\n",
    "Output: une matrice d'images en noir et blanc\n",
    "'''\n",
    "def convert_image(X):\n",
    "    comp = np.ones((X.shape[0], X.shape[1]))*10\n",
    "    X = X <= comp\n",
    "    return X"
   ]
  },
  {
   "cell_type": "code",
   "execution_count": 24,
   "metadata": {},
   "outputs": [],
   "source": [
    "'''\n",
    "Input:\n",
    "    RBM: un RBM initialisé\n",
    "    X: une matrice d'images\n",
    "Output:\n",
    "    Matrice de probabilités de sortie à partir de la fonction softmax\n",
    "'''\n",
    "def calcul_softmax(RBM,X):\n",
    "    B = np.array([RBM.B]*X.shape[0])\n",
    "    numerator = np.exp(np.dot(X, RBM.W) + B)\n",
    "    denum = numerator.sum(1)\n",
    "    result = np.zeros(numerator.shape)\n",
    "    for i in range(result.shape[1]):\n",
    "        result[:,i] = denum           \n",
    "    return numerator/result"
   ]
  },
  {
   "cell_type": "code",
   "execution_count": 25,
   "metadata": {},
   "outputs": [],
   "source": [
    "'''\n",
    "Input: \n",
    "    DNN : un DNN entrainé\n",
    "    X : une matrice d'images\n",
    "Output:\n",
    "    sorties : sorties de toutes les couches du réseau\n",
    "    probas : sortie de la dernière couche (prédiction)\n",
    "'''\n",
    "def entree_sortie_reseau(DNN,X):\n",
    "    sorties = []\n",
    "    for RBM in DNN[:-1]:\n",
    "        X = entree_sortie_RBM(X,RBM)\n",
    "        sorties.append(X)\n",
    "   \n",
    "    probas = calcul_softmax(DNN[-1],sorties[-1])\n",
    "    return sorties,probas"
   ]
  },
  {
   "cell_type": "code",
   "execution_count": 68,
   "metadata": {},
   "outputs": [],
   "source": [
    "'''\n",
    "Input:\n",
    "    DNN : un DNN initialisé (et?) entrainé\n",
    "    nb_iter_grad : nombre d'itérations de la descente de gradient\n",
    "    mini_batch_size : taille du minibatch\n",
    "    X : une matrice d'images\n",
    "    label : les labels de nos données\n",
    "Output:\n",
    "    DNN : Un DNN ayant subit une rétropropagation\n",
    "    Entropie : liste des entropies croisées pour chaque itération\n",
    "'''\n",
    "def retropropagation(DNN,nb_iter_grad,alpha,mini_batch_size,X,label, test_mode=False):\n",
    "    \n",
    "    Entropie = []\n",
    "    for iteration in range(nb_iter_grad):\n",
    "        \n",
    "        # Pour shuffle X, on a aussi besoin de shuffle les labels. Donc on shuffle les indices, et on récupère les données dans cet ordre\n",
    "        l = np.arange(X.shape[0])\n",
    "        np.random.shuffle(l)\n",
    "        X = X[l,:]\n",
    "        label = label[l,:]\n",
    "    \n",
    "        n = len(X)\n",
    "        for batch in range(0,len(X),mini_batch_size):\n",
    "            old_DNN = DNN[:]\n",
    "            \n",
    "            # selection des données\n",
    "            donnees_batch = X[batch:min(batch + mini_batch_size, len(X))]\n",
    "            label_batch = label[batch:min(batch + mini_batch_size, len(X))]\n",
    "            sorties,probas = entree_sortie_reseau(old_DNN,donnees_batch)\n",
    "            \n",
    "            for i in range(len(old_DNN)-1,-1,-1):\n",
    "\n",
    "                #si dernière couche\n",
    "                if i == len(old_DNN)-1 :\n",
    "                    matrice_c = probas - label_batch\n",
    "                    der_W = np.dot(np.transpose(sorties[-1]),matrice_c)/donnees_batch.shape[0]\n",
    "                    der_b = np.sum(matrice_c,axis=0)/donnees_batch.shape[0]\n",
    "\n",
    "                #Pour les autres couches\n",
    "                else:\n",
    "                    if i == 0:\n",
    "                        data = donnees_batch\n",
    "                    else:\n",
    "                        data = sorties[i-1]\n",
    "                        \n",
    "                    h_1_h = sorties[i]*(1-sorties[i])\n",
    "                    transit = np.dot(matrice_c,np.transpose(old_DNN[i+1].W))\n",
    "                    matrice_c = transit*h_1_h\n",
    "                    \n",
    "                    der_W = np.dot(np.transpose(data),matrice_c)/donnees_batch.shape[0]\n",
    "                    der_b = np.sum(matrice_c,axis=0)/donnees_batch.shape[0]\n",
    "\n",
    "                old_DNN[i].W -= alpha*der_W\n",
    "                old_DNN[i].B -= alpha*der_b\n",
    "            \n",
    "        \n",
    "            DNN = old_DNN[:]\n",
    "        sortie,probas = entree_sortie_reseau(DNN,X)\n",
    "        entropie = np.sum(-np.sum(label*np.log10(probas),axis=0), axis=0)/n\n",
    "        print(entropie)\n",
    "        Entropie.append(entropie)\n",
    "  \n",
    "    return DNN,Entropie"
   ]
  },
  {
   "cell_type": "code",
   "execution_count": 64,
   "metadata": {},
   "outputs": [],
   "source": [
    "'''\n",
    "Input : Liste des entropies croisées\n",
    "Output : trace l'évolution de l'entropie\n",
    "'''\n",
    "def tracer_entropie(Entropie):  \n",
    "    plt.plot(range(len(Entropie)), Entropie)\n",
    "    plt.legend(['Entropie'])\n",
    "    plt.title(\"Évolution de l'Entropie\")"
   ]
  },
  {
   "cell_type": "code",
   "execution_count": 65,
   "metadata": {},
   "outputs": [],
   "source": [
    "'''\n",
    "Input:\n",
    "    DNN : un DNN entrainé et/ou ayant subit une rétropropagation\n",
    "    X_test : la matrice des données/images test\n",
    "    label_test : les labels associés\n",
    "Output:\n",
    "    Le taux de bonne prédiction\n",
    "'''\n",
    "def test_DNN(DNN, X_test, label_test):  \n",
    "    sorties, probas = entree_sortie_reseau(DNN, X_test)\n",
    "    index_max = np.argmax(probas, axis=1)\n",
    "    accuracy_rate = 0\n",
    "    for i, j in enumerate(index_max):\n",
    "        values = np.zeros((DNN[-1].W.shape[1]))\n",
    "        values[j] = 1\n",
    "        probas[i,:] = values\n",
    "    for labels in range(label_test.shape[0]):\n",
    "        if (probas[labels, :]==label_test[labels]).all():\n",
    "            accuracy_rate += 1\n",
    "    return accuracy_rate/label_test.shape[0]*100"
   ]
  },
  {
   "cell_type": "code",
   "execution_count": 66,
   "metadata": {},
   "outputs": [],
   "source": [
    "def principal_DNN_MNIST():\n",
    "    \n",
    "    # Initialisation des paramètres\n",
    "    nb_iter = 100\n",
    "    alpha = 0.05\n",
    "    mini_batch_size = 10\n",
    "    nb_data_train = 1000\n",
    "    image_size = [28, 28]\n",
    "    nb_images = 10\n",
    "    nb_data_test = 20\n",
    "    \n",
    "    # Chargement des données\n",
    "    X_train, X_test, Y_train, Y_test = load_data('./train-images.idx3-ubyte', './train-labels.idx1-ubyte', nb_data_train)\n",
    "    X_train = convert_image(X_train)\n",
    "    X_test = convert_image(X_test)\n",
    "    \n",
    "    # Initialisation de la taille du réseau\n",
    "    network_layers = [X_train.shape[1], 200, 120, 60, 10]\n",
    "    \n",
    "    # Préparation des labels\n",
    "    Y_train_reshape = np.zeros((Y_train.shape[0], network_layers[-1]))\n",
    "    Y_test_reshape = np.zeros((Y_test.shape[0], network_layers[-1]))\n",
    "    for i in range(len(Y_train)):\n",
    "        Y_train_reshape[i, Y_train[i]] = 1\n",
    "    for i in range(len(Y_test)):\n",
    "        Y_test_reshape[i, Y_test[i]] = 1\n",
    "    \n",
    "    # On initialise le RBM\n",
    "    DNN = init_DNN(network_layers)\n",
    "    \n",
    "    # On l'entraine\n",
    "    DNN = train_DBN(DNN,nb_iter,alpha,mini_batch_size,X_train)\n",
    "    \n",
    "    # On applique la rétro propagation\n",
    "    DNN,entropie = retropropagation(DNN,nb_iter,alpha,mini_batch_size,X_train,Y_train_reshape, test_mode=False)\n",
    "    \n",
    "    # On le test\n",
    "    rate = test_DNN(DNN, X_test, Y_test_reshape)\n",
    "    \n",
    "    # On trace l'entropie\n",
    "    tracer_entropie(entropie)\n",
    "    return rate"
   ]
  },
  {
   "cell_type": "code",
   "execution_count": 70,
   "metadata": {
    "scrolled": false
   },
   "outputs": [
    {
     "name": "stdout",
     "output_type": "stream",
     "text": [
      "1.0236531099107322\n",
      "1.064659813435075\n",
      "1.02894932141245\n",
      "1.0241792359531168\n",
      "1.0101964611133658\n",
      "1.0216560826597685\n",
      "1.0456889275641523\n",
      "1.0164348700283314\n",
      "1.0222075702685653\n",
      "1.0142220666215473\n",
      "1.029944589554417\n",
      "1.0421635437943098\n",
      "1.0125974684586132\n",
      "1.0128796092795234\n",
      "1.046326877278813\n",
      "1.0210755274406678\n",
      "1.0214984454929437\n",
      "1.0153319011119388\n",
      "1.0394244206888457\n",
      "1.0352331691954761\n",
      "1.0092754048878694\n",
      "1.0234788614970691\n",
      "1.0299827082020465\n",
      "1.0139937095640594\n",
      "1.0295789238237059\n",
      "1.0173364066899275\n",
      "1.0409029172641378\n",
      "1.0304267703616952\n",
      "1.0271509782162547\n",
      "1.0285352184299037\n",
      "1.019523537827954\n",
      "1.013168083493391\n",
      "1.022579056957855\n",
      "1.036583560820206\n",
      "1.04733670327976\n",
      "1.0444879905288083\n",
      "1.049208393873573\n",
      "1.0268496053571003\n",
      "1.0190660873952662\n",
      "1.0206683413729403\n",
      "1.0594843271808332\n",
      "1.0277203256572418\n",
      "1.024536237803528\n",
      "1.008706819477421\n",
      "1.0317924464543544\n",
      "1.028970151751529\n",
      "1.0077818431019896\n",
      "1.0285298367527689\n",
      "1.0569716215470737\n",
      "1.023153592640978\n",
      "1.0133681428555257\n",
      "1.0351003766645415\n",
      "1.0500983513983306\n",
      "1.031849593209013\n",
      "1.0047852829324158\n",
      "1.0735802412298971\n",
      "1.0359555157131601\n",
      "1.0155840565657615\n",
      "1.0171522663850048\n",
      "1.0211161109628757\n",
      "1.0271609425601997\n",
      "1.0251102538523313\n",
      "1.0181186193712286\n",
      "1.0398385907606849\n",
      "1.053069216134949\n",
      "1.028758128091995\n",
      "1.0353851347523313\n",
      "1.0198295549344358\n",
      "1.0645742304111048\n",
      "1.0226918003516283\n",
      "1.0135848285614804\n",
      "1.0203727589246738\n",
      "1.0179491022911396\n",
      "1.0502176898758466\n",
      "1.0431053249390925\n",
      "1.0131735225937242\n",
      "1.030939344975842\n",
      "1.052041374724259\n",
      "1.0508762831959075\n",
      "1.0334448129022462\n",
      "1.023261856046064\n",
      "1.0427741671944346\n",
      "1.0131651679714668\n",
      "1.020358752898745\n",
      "1.020207069971458\n",
      "1.0212274170481574\n",
      "1.0189875323503736\n",
      "1.0209871652208966\n",
      "1.0213271036324232\n",
      "1.0533813651128043\n",
      "1.0129234857615699\n",
      "1.015150762657318\n",
      "1.038359300540645\n",
      "1.0433083638801728\n",
      "1.024207390404211\n",
      "1.030142331826178\n",
      "1.012698053615098\n",
      "1.0285969150642813\n",
      "1.0036490001502432\n",
      "1.0414873563167746\n"
     ]
    },
    {
     "data": {
      "text/plain": [
       "10.0"
      ]
     },
     "execution_count": 70,
     "metadata": {},
     "output_type": "execute_result"
    },
    {
     "data": {
      "image/png": "[encoded data removed]",
      "text/plain": [
       "<Figure size 432x288 with 1 Axes>"
      ]
     },
     "metadata": {
      "needs_background": "light"
     },
     "output_type": "display_data"
    }
   ],
   "source": [
    "principal_DNN_MNIST()"
   ]
  },
  {
   "cell_type": "markdown",
   "metadata": {},
   "source": [
    "# IV) Travail préliminaire (Binary AlphaDigit)"
   ]
  },
  {
   "cell_type": "markdown",
   "metadata": {},
   "source": [
    "# V) Étude à réaliser (MNIST)"
   ]
  },
  {
   "cell_type": "code",
   "execution_count": null,
   "metadata": {},
   "outputs": [],
   "source": []
  }
 ],
 "metadata": {
  "kernelspec": {
   "display_name": "Python 3",
   "language": "python",
   "name": "python3"
  },
  "language_info": {
   "codemirror_mode": {
    "name": "ipython",
    "version": 3
   },
   "file_extension": ".py",
   "mimetype": "text/x-python",
   "name": "python",
   "nbconvert_exporter": "python",
   "pygments_lexer": "ipython3",
   "version": "3.6.2"
  }
 },
 "nbformat": 4,
 "nbformat_minor": 2
}
