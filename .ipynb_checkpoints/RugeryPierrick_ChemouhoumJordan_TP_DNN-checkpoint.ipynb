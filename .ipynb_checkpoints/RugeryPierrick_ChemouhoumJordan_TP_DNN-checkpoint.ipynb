{
 "cells": [
  {
   "cell_type": "markdown",
   "metadata": {},
   "source": [
    "### <font color=darkred> [MSA : Modélisation, Apprentissage et Applications] </font>\n",
    "### <font color = darkblue> <div style=\"text-align: center\"> TP - Deep Neural Networks\n",
    "### <font color = darkgreen> <div style=\"text-align: center\"> Traitements statistiques des données en grande dimension \n",
    "#### <font color = darkblue> <div style=\"text-align: right\"> Binôme : Jordan CHEMOUHOUM, Pierrick RUGERY\n",
    "\n"
   ]
  },
  {
   "cell_type": "markdown",
   "metadata": {},
   "source": [
    "Consignes rapport : \n",
    "- pas coller le code, on envoie le code a part (jupyter notebook)\n",
    "- 1er partie : expliquer brièvement à ce qu'on a fait avec le RBM. Réussit à faire pour un carac, mais problème pour plusieurs carac\n",
    "- 2eme partie : Pareil pour le DBN. Epxliquer les spécificités du code pour la réutilisation\n",
    "- 3eme partie DNN: grande étude à faire. Le sujet principal est : DNN préentrainé vs DNN initialisé aléatoirement. On doit pas forcément comparé des entropies croisées, ce qui va être important, c'est la finalité: les taux de bonne classification. On doit travailler sur exactement les mêmes données, et comparer un DNN préentrainé et un DNN non préentrainé. On doit les comparer en fonction : \n",
    "        - du nombre de données Train(1000 puis 5000 puis 10 000, 30 000, 60 000 etc). Faire la classif sur les 10 000 données de la base test. Garder la même architecture évidemment. \n",
    "             - dans le nombre de données, faire aussi en fonction de l'architecture (faire 2 architectures). (save DNN pour plus réentrainé).\n",
    "        - en fonction du nombre de couches. Prendre ici les 60 000 données Train. (1,2,...,5,6), et fixer un nombre de neurones par couche. Pour une étude complète par exemple faire cela une fois avec 50 neuroens par couche, et un autre avec 500 neurones par couche. \n",
    "         - en fonction de neurones/couches (50,100,200)\n",
    "         \n",
    "Faire des courbes.\n",
    "Le prof prend 0.01 pour le learning rate et batch_size pour 1. "
   ]
  },
  {
   "cell_type": "markdown",
   "metadata": {},
   "source": [
    "#### Importation des librairies"
   ]
  },
  {
   "cell_type": "code",
   "execution_count": 1,
   "metadata": {
    "collapsed": true
   },
   "outputs": [],
   "source": [
    "import scipy.io\n",
    "import numpy as np\n",
    "import random as rd\n",
    "from PIL import Image\n",
    "import matplotlib.pyplot as plt \n",
    "import pandas as pd\n",
    "from sklearn.model_selection import train_test_split\n",
    "from mlxtend.data import loadlocal_mnist\n",
    "%matplotlib inline"
   ]
  },
  {
   "cell_type": "markdown",
   "metadata": {},
   "source": [
    "# III) Fonctions élémentaires"
   ]
  },
  {
   "cell_type": "markdown",
   "metadata": {},
   "source": [
    "## III.1) Construction d'un RBM et test sur Binary Alpha Digits"
   ]
  },
  {
   "cell_type": "code",
   "execution_count": 2,
   "metadata": {
    "collapsed": true
   },
   "outputs": [],
   "source": [
    "'''\n",
    "Définition de la classe RBM\n",
    "'''\n",
    "class RBM:\n",
    "\n",
    "    def __init__(self,W, B, A):\n",
    "        self.W = W\n",
    "        self.B = B\n",
    "        self.A = A\n",
    "\n",
    "    @property\n",
    "    def W(self):\n",
    "        return self.__W\n",
    "\n",
    "    @property\n",
    "    def B(self):\n",
    "        return self.__B\n",
    "    @property\n",
    "    def A(self):\n",
    "        return self.__A\n",
    "    @W.setter\n",
    "    def W(self, W):\n",
    "        self.__W = W\n",
    "    @B.setter\n",
    "    def B(self, B):\n",
    "        self.__B = B\n",
    "    @A.setter\n",
    "    def A(self, A):\n",
    "        self.__A = A"
   ]
  },
  {
   "cell_type": "code",
   "execution_count": 3,
   "metadata": {
    "collapsed": true
   },
   "outputs": [],
   "source": [
    "'''\n",
    "Fonction: permet de lire un fichier image\n",
    "Input: chemin vers un fichier\n",
    "Output: une matrice d'image\n",
    "'''\n",
    "\n",
    "def lire_alpha_digit(file):\n",
    "    X = pd.DataFrame(scipy.io.loadmat(file)['dat'])   \n",
    "    images = pd.DataFrame(np.zeros((1404, 20*16), dtype=np.int8))\n",
    "    ligne = 0\n",
    "    for i in range(X.shape[0]):\n",
    "        for j in range(X.shape[1]):\n",
    "            images.iloc[ligne,:] = np.concatenate([X.iloc[i,j][k] for k in range(20)])\n",
    "            ligne += 1\n",
    "    return images.as_matrix()"
   ]
  },
  {
   "cell_type": "code",
   "execution_count": 4,
   "metadata": {
    "collapsed": true
   },
   "outputs": [],
   "source": [
    "'''\n",
    "Input:\n",
    "    p : taille de la couche d'entrée\n",
    "    q : taille de la couche de sortie\n",
    "Output:\n",
    "    rbm : un object RBM \n",
    "'''\n",
    "def init_rbm(p,q):\n",
    "    B = np.zeros(q)\n",
    "    A = np.zeros(p)\n",
    "    rbm = RBM(W=0.01 * np.random.randn(p, q), B=B, A=A)\n",
    "    return rbm"
   ]
  },
  {
   "cell_type": "code",
   "execution_count": 5,
   "metadata": {
    "collapsed": true
   },
   "outputs": [],
   "source": [
    "def sigmoid(x):\n",
    "    return(1/(1+np.exp(-x)))\n",
    "'''\n",
    "Input: \n",
    "    X : une matrice image\n",
    "    RBM : objet de class RBM, contenant W, A, B\n",
    "\n",
    "Output:\n",
    "    PH|V : une matrice de probabilités\n",
    "'''\n",
    "\n",
    "def entree_sortie_RBM(X,RBM):\n",
    "    B = np.array([RBM.B]*X.shape[0])\n",
    "    return sigmoid(np.dot(X,RBM.W) - B)"
   ]
  },
  {
   "cell_type": "code",
   "execution_count": 6,
   "metadata": {
    "collapsed": true
   },
   "outputs": [],
   "source": [
    "'''\n",
    "Input:\n",
    "    H : matrice de probabilités\n",
    "    RBM : objet de class RBM, contenant W, A, B\n",
    "\n",
    "Output:\n",
    "    PV|H : matrice de probabilités\n",
    "'''\n",
    "\n",
    "def sortie_entree_RBM(H,RBM):\n",
    "    A = np.array([RBM.A]*H.shape[0])\n",
    "    return sigmoid(np.dot(H,np.transpose(RBM.W)) + A)"
   ]
  },
  {
   "cell_type": "code",
   "execution_count": 7,
   "metadata": {
    "collapsed": true
   },
   "outputs": [],
   "source": [
    "'''\n",
    "Input: \n",
    "    X : matrice image\n",
    "    RBM : objet de class RBM, contenant W, A, B\n",
    "    batch_size : int, taille de nos batchs\n",
    "    nb_iteration : int, nombre d'itérations\n",
    "    alpha : le learning rate\n",
    "\n",
    "Output:\n",
    "    un objet RBM entrainé et une liste contenant les erreurs quadratiques moyennes\n",
    "'''\n",
    "def train_RBM(X,RBM,batch_size,nb_iteration,alpha):\n",
    "    EQM = []\n",
    "    for iteration in range(nb_iteration):\n",
    "        #shuffle inplace\n",
    "        np.random.shuffle(X)\n",
    "        p,q = RBM.W.shape\n",
    "        for j in range(0,X.shape[0],batch_size):\n",
    "            # selection des données\n",
    "            data = X[j:min(j + batch_size, len(X)),:]\n",
    "            n = len(data)\n",
    "            \n",
    "            #CD_1\n",
    "                #tirage selon H|V0. Donne un tableau de False/True, mais numpy sait que c'est des 0 ou 1\n",
    "        \n",
    "            V0 = data\n",
    "            PH_V0 = entree_sortie_RBM(V0,RBM)\n",
    "            p, q = PH_V0.shape\n",
    "            H0 = np.random.rand(p,q) <= PH_V0\n",
    "            \n",
    "            PV_H0 = sortie_entree_RBM(H0,RBM)\n",
    "            p, q = PV_H0.shape\n",
    "            V1 = np.random.rand(p,q) <= PV_H0\n",
    "            PH_V1 = entree_sortie_RBM(V1,RBM)\n",
    "\n",
    "            #calcul des gradients\n",
    "            dW = (np.dot(np.transpose(V0),PH_V0) -  np.dot(np.transpose(V1),PH_V1))/data.shape[0]\n",
    "                #somme sur les lignes\n",
    "            dA = (np.sum(V0, axis=0) - np.sum(V1, axis=0))/data.shape[0]\n",
    "            dB = (np.sum(PH_V0, axis=0) - np.sum(PH_V1, axis=0))/data.shape[0]\n",
    "\n",
    "            #Actualisation\n",
    "            RBM.W += alpha*dW\n",
    "            RBM.A += alpha*dA\n",
    "            RBM.B += alpha*dB\n",
    "        \n",
    "        e = entree_sortie_RBM(X, RBM)\n",
    "        s = sortie_entree_RBM(e, RBM)\n",
    "        EQM.append(np.mean(np.mean(X-s)**2))\n",
    "        \n",
    "    return(RBM,EQM)"
   ]
  },
  {
   "cell_type": "code",
   "execution_count": 8,
   "metadata": {
    "collapsed": true
   },
   "outputs": [],
   "source": [
    "'''\n",
    "Input: \n",
    "    EQM : une liste contenant les erreurs quadratiques moyennes à chaque itération\n",
    "Ouput: \n",
    "    Un graphe de l'evolution de l'erreur quadratique moyenne\n",
    "'''\n",
    "def tracer_erreur(EQM):        \n",
    "    plt.plot(range(len(EQM)), EQM)\n",
    "    plt.legend(['Erreur Quadratique Moyenne'])\n",
    "    plt.title(\"Évolution de l'erreur\")"
   ]
  },
  {
   "cell_type": "code",
   "execution_count": 9,
   "metadata": {
    "collapsed": true
   },
   "outputs": [],
   "source": [
    "'''\n",
    "Input: \n",
    "    images : une matrice(np array) contenant une image sur chaque lignes\n",
    "    size : la taille des images\n",
    "Output:\n",
    "    affiche les images\n",
    "'''\n",
    "def display(images, size):\n",
    "    for image in images:\n",
    "        image = image*255\n",
    "        plt.imshow(np.reshape(image, size),cmap='gray')\n",
    "        plt.show()"
   ]
  },
  {
   "cell_type": "code",
   "execution_count": 10,
   "metadata": {
    "collapsed": true
   },
   "outputs": [],
   "source": [
    "'''\n",
    "Input: \n",
    "    RBM : un RBM entrainé\n",
    "    nb_iterations : le nombre d'iterations\n",
    "    nb_images : le nombre d'images à générer\n",
    "    size_image : la taille souhaitée des images à générer\n",
    "Ouput: \n",
    "    nb_images images générées\n",
    "'''\n",
    "\n",
    "def generer_image_RBM(RBM,nb_iterations,nb_images, size_image):\n",
    "    images = []\n",
    "    #initialisation\n",
    "    images = np.zeros((nb_images, RBM.W.shape[0]))\n",
    "    for i in range(nb_images):\n",
    "        X = np.random.rand(nb_images, RBM.W.shape[0])\n",
    "        comp = np.ones((nb_images, RBM.W.shape[0]))*0.5\n",
    "        X = X <= comp\n",
    "        for iteration in range(nb_iterations):    \n",
    "            PH_V = entree_sortie_RBM(X,RBM)\n",
    "            p, q = PH_V.shape\n",
    "            H = (np.random.rand(p, q)) <= (PH_V)\n",
    "            \n",
    "            PV_H = sortie_entree_RBM(H,RBM)\n",
    "            p, q = RBM.W.shape\n",
    "    \n",
    "            X = (np.random.rand(nb_images, p)) <= (PV_H)\n",
    "        images = X\n",
    "    return images"
   ]
  },
  {
   "cell_type": "code",
   "execution_count": 11,
   "metadata": {
    "collapsed": true
   },
   "outputs": [],
   "source": [
    "'''\n",
    "Test des fonctions précédentes sur les données Binary AlphaDigits\n",
    "Output : les images générées\n",
    "'''\n",
    "def principal_RBM_Alpha():\n",
    "    \n",
    "    # Chargement des images\n",
    "    X = lire_alpha_digit('./binaryalphadigs.mat')\n",
    "    \n",
    "    # Initialisation des paramètres\n",
    "    p = X.shape[1]\n",
    "    q = 60\n",
    "    batch_size = 9\n",
    "    nb_iter = 1000\n",
    "    nb_iter_gibbs = 1000\n",
    "    nb_image = 10\n",
    "    alpha = 0.1\n",
    "    taille_image = [20,16]\n",
    "    \n",
    "    #  On mélange les données et on en sélectionne seulement 100\n",
    "    np.random.shuffle(X)\n",
    "    X = X[:99,:]\n",
    "    \n",
    "    # On initialise le RBM\n",
    "    rbm = init_rbm(p, q)\n",
    "    \n",
    "    # On l'entraine\n",
    "    rbm_train,EQM = train_RBM(X, rbm, batch_size, nb_iter, alpha)\n",
    "    \n",
    "    # On affiche l'évolution de l'erreur de reconstruction\n",
    "    tracer_erreur(EQM)\n",
    "    \n",
    "    # On génére nb_image images\n",
    "    images = generer_image_RBM(rbm_train, nb_iter_gibbs, nb_image, taille_image)\n",
    "    \n",
    "    return(images)"
   ]
  },
  {
   "cell_type": "code",
   "execution_count": 12,
   "metadata": {},
   "outputs": [
    {
     "ename": "TypeError",
     "evalue": "'NoneType' object is not iterable",
     "output_type": "error",
     "traceback": [
      "\u001b[0;31m---------------------------------------------------------------------------\u001b[0m",
      "\u001b[0;31mTypeError\u001b[0m                                 Traceback (most recent call last)",
      "\u001b[0;32m<ipython-input-12-83f628e8aff4>\u001b[0m in \u001b[0;36m<module>\u001b[0;34m()\u001b[0m\n\u001b[0;32m----> 1\u001b[0;31m \u001b[0mimages\u001b[0m \u001b[0;34m=\u001b[0m \u001b[0mprincipal_RBM_Alpha\u001b[0m\u001b[0;34m(\u001b[0m\u001b[0;34m)\u001b[0m\u001b[0;34m\u001b[0m\u001b[0;34m\u001b[0m\u001b[0m\n\u001b[0m",
      "\u001b[0;32m<ipython-input-11-c749b2504218>\u001b[0m in \u001b[0;36mprincipal_RBM_Alpha\u001b[0;34m()\u001b[0m\n\u001b[1;32m      6\u001b[0m \u001b[0;34m\u001b[0m\u001b[0m\n\u001b[1;32m      7\u001b[0m     \u001b[0;31m# Chargement des images\u001b[0m\u001b[0;34m\u001b[0m\u001b[0;34m\u001b[0m\u001b[0;34m\u001b[0m\u001b[0m\n\u001b[0;32m----> 8\u001b[0;31m     \u001b[0mX\u001b[0m \u001b[0;34m=\u001b[0m \u001b[0mlire_alpha_digit\u001b[0m\u001b[0;34m(\u001b[0m\u001b[0;34m'./binaryalphadigs.mat'\u001b[0m\u001b[0;34m)\u001b[0m\u001b[0;34m\u001b[0m\u001b[0;34m\u001b[0m\u001b[0m\n\u001b[0m\u001b[1;32m      9\u001b[0m \u001b[0;34m\u001b[0m\u001b[0m\n\u001b[1;32m     10\u001b[0m     \u001b[0;31m# Initialisation des paramètres\u001b[0m\u001b[0;34m\u001b[0m\u001b[0;34m\u001b[0m\u001b[0;34m\u001b[0m\u001b[0m\n",
      "\u001b[0;32m<ipython-input-3-7d65ce2dbd2f>\u001b[0m in \u001b[0;36mlire_alpha_digit\u001b[0;34m(file)\u001b[0m\n\u001b[1;32m      6\u001b[0m \u001b[0;34m\u001b[0m\u001b[0m\n\u001b[1;32m      7\u001b[0m \u001b[0;32mdef\u001b[0m \u001b[0mlire_alpha_digit\u001b[0m\u001b[0;34m(\u001b[0m\u001b[0mfile\u001b[0m\u001b[0;34m)\u001b[0m\u001b[0;34m:\u001b[0m\u001b[0;34m\u001b[0m\u001b[0;34m\u001b[0m\u001b[0m\n\u001b[0;32m----> 8\u001b[0;31m     \u001b[0mX\u001b[0m \u001b[0;34m=\u001b[0m \u001b[0mpd\u001b[0m\u001b[0;34m.\u001b[0m\u001b[0mDataFrame\u001b[0m\u001b[0;34m(\u001b[0m\u001b[0mscipy\u001b[0m\u001b[0;34m.\u001b[0m\u001b[0mio\u001b[0m\u001b[0;34m.\u001b[0m\u001b[0mloadmat\u001b[0m\u001b[0;34m(\u001b[0m\u001b[0mfile\u001b[0m\u001b[0;34m)\u001b[0m\u001b[0;34m[\u001b[0m\u001b[0;34m'dat'\u001b[0m\u001b[0;34m]\u001b[0m\u001b[0;34m)\u001b[0m\u001b[0;34m\u001b[0m\u001b[0;34m\u001b[0m\u001b[0m\n\u001b[0m\u001b[1;32m      9\u001b[0m     \u001b[0mimages\u001b[0m \u001b[0;34m=\u001b[0m \u001b[0mpd\u001b[0m\u001b[0;34m.\u001b[0m\u001b[0mDataFrame\u001b[0m\u001b[0;34m(\u001b[0m\u001b[0mnp\u001b[0m\u001b[0;34m.\u001b[0m\u001b[0mzeros\u001b[0m\u001b[0;34m(\u001b[0m\u001b[0;34m(\u001b[0m\u001b[0;36m1404\u001b[0m\u001b[0;34m,\u001b[0m \u001b[0;36m20\u001b[0m\u001b[0;34m*\u001b[0m\u001b[0;36m16\u001b[0m\u001b[0;34m)\u001b[0m\u001b[0;34m,\u001b[0m \u001b[0mdtype\u001b[0m\u001b[0;34m=\u001b[0m\u001b[0mnp\u001b[0m\u001b[0;34m.\u001b[0m\u001b[0mint8\u001b[0m\u001b[0;34m)\u001b[0m\u001b[0;34m)\u001b[0m\u001b[0;34m\u001b[0m\u001b[0;34m\u001b[0m\u001b[0m\n\u001b[1;32m     10\u001b[0m     \u001b[0mligne\u001b[0m \u001b[0;34m=\u001b[0m \u001b[0;36m0\u001b[0m\u001b[0;34m\u001b[0m\u001b[0;34m\u001b[0m\u001b[0m\n",
      "\u001b[0;32m~/anaconda3/lib/python3.6/site-packages/scipy/io/matlab/mio.py\u001b[0m in \u001b[0;36mloadmat\u001b[0;34m(file_name, mdict, appendmat, **kwargs)\u001b[0m\n\u001b[1;32m    139\u001b[0m     \"\"\"\n\u001b[1;32m    140\u001b[0m     \u001b[0mvariable_names\u001b[0m \u001b[0;34m=\u001b[0m \u001b[0mkwargs\u001b[0m\u001b[0;34m.\u001b[0m\u001b[0mpop\u001b[0m\u001b[0;34m(\u001b[0m\u001b[0;34m'variable_names'\u001b[0m\u001b[0;34m,\u001b[0m \u001b[0;32mNone\u001b[0m\u001b[0;34m)\u001b[0m\u001b[0;34m\u001b[0m\u001b[0;34m\u001b[0m\u001b[0m\n\u001b[0;32m--> 141\u001b[0;31m     \u001b[0mMR\u001b[0m\u001b[0;34m,\u001b[0m \u001b[0mfile_opened\u001b[0m \u001b[0;34m=\u001b[0m \u001b[0mmat_reader_factory\u001b[0m\u001b[0;34m(\u001b[0m\u001b[0mfile_name\u001b[0m\u001b[0;34m,\u001b[0m \u001b[0mappendmat\u001b[0m\u001b[0;34m,\u001b[0m \u001b[0;34m**\u001b[0m\u001b[0mkwargs\u001b[0m\u001b[0;34m)\u001b[0m\u001b[0;34m\u001b[0m\u001b[0;34m\u001b[0m\u001b[0m\n\u001b[0m\u001b[1;32m    142\u001b[0m     \u001b[0mmatfile_dict\u001b[0m \u001b[0;34m=\u001b[0m \u001b[0mMR\u001b[0m\u001b[0;34m.\u001b[0m\u001b[0mget_variables\u001b[0m\u001b[0;34m(\u001b[0m\u001b[0mvariable_names\u001b[0m\u001b[0;34m)\u001b[0m\u001b[0;34m\u001b[0m\u001b[0;34m\u001b[0m\u001b[0m\n\u001b[1;32m    143\u001b[0m     \u001b[0;32mif\u001b[0m \u001b[0mmdict\u001b[0m \u001b[0;32mis\u001b[0m \u001b[0;32mnot\u001b[0m \u001b[0;32mNone\u001b[0m\u001b[0;34m:\u001b[0m\u001b[0;34m\u001b[0m\u001b[0;34m\u001b[0m\u001b[0m\n",
      "\u001b[0;32m~/anaconda3/lib/python3.6/site-packages/scipy/io/matlab/mio.py\u001b[0m in \u001b[0;36mmat_reader_factory\u001b[0;34m(file_name, appendmat, **kwargs)\u001b[0m\n\u001b[1;32m     62\u001b[0m \u001b[0;34m\u001b[0m\u001b[0m\n\u001b[1;32m     63\u001b[0m     \"\"\"\n\u001b[0;32m---> 64\u001b[0;31m     \u001b[0mbyte_stream\u001b[0m\u001b[0;34m,\u001b[0m \u001b[0mfile_opened\u001b[0m \u001b[0;34m=\u001b[0m \u001b[0m_open_file\u001b[0m\u001b[0;34m(\u001b[0m\u001b[0mfile_name\u001b[0m\u001b[0;34m,\u001b[0m \u001b[0mappendmat\u001b[0m\u001b[0;34m)\u001b[0m\u001b[0;34m\u001b[0m\u001b[0;34m\u001b[0m\u001b[0m\n\u001b[0m\u001b[1;32m     65\u001b[0m     \u001b[0mmjv\u001b[0m\u001b[0;34m,\u001b[0m \u001b[0mmnv\u001b[0m \u001b[0;34m=\u001b[0m \u001b[0mget_matfile_version\u001b[0m\u001b[0;34m(\u001b[0m\u001b[0mbyte_stream\u001b[0m\u001b[0;34m)\u001b[0m\u001b[0;34m\u001b[0m\u001b[0;34m\u001b[0m\u001b[0m\n\u001b[1;32m     66\u001b[0m     \u001b[0;32mif\u001b[0m \u001b[0mmjv\u001b[0m \u001b[0;34m==\u001b[0m \u001b[0;36m0\u001b[0m\u001b[0;34m:\u001b[0m\u001b[0;34m\u001b[0m\u001b[0;34m\u001b[0m\u001b[0m\n",
      "\u001b[0;31mTypeError\u001b[0m: 'NoneType' object is not iterable"
     ]
    }
   ],
   "source": [
    "images = principal_RBM_Alpha()"
   ]
  },
  {
   "cell_type": "code",
   "execution_count": 13,
   "metadata": {},
   "outputs": [
    {
     "ename": "NameError",
     "evalue": "name 'images' is not defined",
     "output_type": "error",
     "traceback": [
      "\u001b[0;31m---------------------------------------------------------------------------\u001b[0m",
      "\u001b[0;31mNameError\u001b[0m                                 Traceback (most recent call last)",
      "\u001b[0;32m<ipython-input-13-941d27d042d1>\u001b[0m in \u001b[0;36m<module>\u001b[0;34m()\u001b[0m\n\u001b[1;32m      1\u001b[0m \u001b[0;31m# On affiche les images générées\u001b[0m\u001b[0;34m\u001b[0m\u001b[0;34m\u001b[0m\u001b[0;34m\u001b[0m\u001b[0m\n\u001b[0;32m----> 2\u001b[0;31m \u001b[0mdisplay\u001b[0m\u001b[0;34m(\u001b[0m\u001b[0mimages\u001b[0m\u001b[0;34m,\u001b[0m\u001b[0;34m[\u001b[0m\u001b[0;36m20\u001b[0m\u001b[0;34m,\u001b[0m\u001b[0;36m16\u001b[0m\u001b[0;34m]\u001b[0m\u001b[0;34m)\u001b[0m\u001b[0;34m\u001b[0m\u001b[0;34m\u001b[0m\u001b[0m\n\u001b[0m",
      "\u001b[0;31mNameError\u001b[0m: name 'images' is not defined"
     ]
    }
   ],
   "source": [
    "# On affiche les images générées\n",
    "display(images,[20,16])"
   ]
  },
  {
   "cell_type": "markdown",
   "metadata": {},
   "source": [
    "## III.2) Construction d'un DBN et test sur Binary Alpha Digits"
   ]
  },
  {
   "cell_type": "code",
   "execution_count": 14,
   "metadata": {
    "collapsed": true
   },
   "outputs": [],
   "source": [
    "'''\n",
    "Input: \n",
    "    size: une liste contenant la taille des couches des RBM composants le DNN\n",
    "Output:\n",
    "    Un DNN\n",
    "'''\n",
    "def init_DNN(size):\n",
    "    DNN = []\n",
    "    for i in range(len(size)-1):\n",
    "        DNN.append(init_rbm(size[i], size[i+1]))\n",
    "    return DNN"
   ]
  },
  {
   "cell_type": "code",
   "execution_count": 15,
   "metadata": {
    "collapsed": true
   },
   "outputs": [],
   "source": [
    "'''\n",
    "Input: \n",
    "    DNN : un DNN initialisé\n",
    "    nb_iter : le nombre d'itérations\n",
    "    alpha : le learning rate\n",
    "    minibatch_size : la taille du minibatch\n",
    "    X : une matrice d'images\n",
    "Output:\n",
    "    DNN_New : un DNN entrainé\n",
    "'''\n",
    "def train_DBN(DNN,nb_iter,alpha,minibatch_size,X):\n",
    "    DNN_new = []\n",
    "    data = X\n",
    "    for i in range(len(DNN)):\n",
    "        RBM_trained,eqm = train_RBM(data,DNN[i],minibatch_size,nb_iter,alpha)\n",
    "        DNN_new.append(RBM_trained)\n",
    "        data = entree_sortie_RBM(data,DNN[i])\n",
    "        plt.legend('couche ' + str(i))\n",
    "        \n",
    "    #calcule de l'erreur\n",
    "    data_err = X\n",
    "    for RBM in DNN:\n",
    "        PH_V = entree_sortie_RBM(data_err,RBM)\n",
    "        p, q = PH_V.shape\n",
    "        data_err = np.random.rand(p, q) <= PH_V\n",
    "\n",
    "    for RBM in DNN[::-1]:\n",
    "        PV_H = sortie_entree_RBM(data_err,RBM)\n",
    "        data_err = np.random.rand(PV_H.shape[0], PV_H.shape[1]) <= PV_H\n",
    "    \n",
    "    #print(\"L'erreur de reconstruction du DBN est : \" + str(np.mean(np.mean(X-data_err)**2)))\n",
    "    return DNN_new"
   ]
  },
  {
   "cell_type": "code",
   "execution_count": 16,
   "metadata": {
    "collapsed": true
   },
   "outputs": [],
   "source": [
    "'''\n",
    "Input: \n",
    "    DBN : un DBN entrainé\n",
    "    nb_iterations : le nombre d'itérations\n",
    "    nb_images : le nombre d'images à générer\n",
    "    size_image : la taille souhaitée des images\n",
    "Output:\n",
    "    nb_images images générées\n",
    "'''\n",
    "\n",
    "def generer_image_DBN(DBN,nb_iterations,nb_images, size_image):   \n",
    "    images = []\n",
    "    images = np.zeros((nb_images, DBN[0].W.shape[0]))\n",
    "    for i in range(nb_images):\n",
    "        X = np.random.rand(nb_images, DBN[0].W.shape[0])\n",
    "        comp = np.ones((nb_images, DBN[0].W.shape[0]))*0.5\n",
    "        X = X <= comp\n",
    "        for iteration in range(nb_iterations):\n",
    "            \n",
    "            for RBM in DBN:\n",
    "                PH_V = entree_sortie_RBM(X,RBM)\n",
    "                p, q = PH_V.shape\n",
    "                X = (np.random.rand(p, q)) <= (PH_V)\n",
    "\n",
    "            for RBM in DBN[::-1]:\n",
    "                PV_H = sortie_entree_RBM(X,RBM)\n",
    "                p, q = RBM.W.shape\n",
    "                X = (np.random.rand(nb_images, p)) <= (PV_H)\n",
    "        images = X\n",
    "    return images "
   ]
  },
  {
   "cell_type": "code",
   "execution_count": 17,
   "metadata": {
    "collapsed": true
   },
   "outputs": [],
   "source": [
    "'''\n",
    "Test des fonctions précédentes sur les données Binary AlphaDigits\n",
    "Output : les images générées\n",
    "'''\n",
    "def principal_DBN_alpha():\n",
    "    \n",
    "    # Chargement des images\n",
    "    X = lire_alpha_digit('./binaryalphadigs.mat')\n",
    "    \n",
    "    # Initialisation des paramètres\n",
    "    size = [320,160,80,10]\n",
    "    minibatch_size = 9\n",
    "    nb_iter = 1000\n",
    "    nb_image = 10\n",
    "    alpha = 0.1\n",
    "    size_image = [20,16]\n",
    "    \n",
    "    #  On mélange les données et on en sélectionne seulement 100\n",
    "    np.random.shuffle(X)\n",
    "    X = X[:99,:]\n",
    "    \n",
    "    # On initialise le RBM\n",
    "    DBN = init_DNN(size)\n",
    "    \n",
    "    # On l'entraine\n",
    "    DBN_train = train_DBN(DBN,nb_iter,alpha,minibatch_size,X)\n",
    "    \n",
    "    # On génére nb_image images\n",
    "    images = generer_image_DBN(DBN_train,nb_iter,nb_image, size_image)\n",
    "    \n",
    "    return images"
   ]
  },
  {
   "cell_type": "code",
   "execution_count": 18,
   "metadata": {},
   "outputs": [
    {
     "ename": "TypeError",
     "evalue": "'NoneType' object is not iterable",
     "output_type": "error",
     "traceback": [
      "\u001b[0;31m---------------------------------------------------------------------------\u001b[0m",
      "\u001b[0;31mTypeError\u001b[0m                                 Traceback (most recent call last)",
      "\u001b[0;32m<ipython-input-18-0cf1c339949a>\u001b[0m in \u001b[0;36m<module>\u001b[0;34m()\u001b[0m\n\u001b[0;32m----> 1\u001b[0;31m \u001b[0mimages\u001b[0m \u001b[0;34m=\u001b[0m \u001b[0mprincipal_DBN_alpha\u001b[0m\u001b[0;34m(\u001b[0m\u001b[0;34m)\u001b[0m\u001b[0;34m\u001b[0m\u001b[0;34m\u001b[0m\u001b[0m\n\u001b[0m",
      "\u001b[0;32m<ipython-input-17-0f5ddf9c82dc>\u001b[0m in \u001b[0;36mprincipal_DBN_alpha\u001b[0;34m()\u001b[0m\n\u001b[1;32m      6\u001b[0m \u001b[0;34m\u001b[0m\u001b[0m\n\u001b[1;32m      7\u001b[0m     \u001b[0;31m# Chargement des images\u001b[0m\u001b[0;34m\u001b[0m\u001b[0;34m\u001b[0m\u001b[0;34m\u001b[0m\u001b[0m\n\u001b[0;32m----> 8\u001b[0;31m     \u001b[0mX\u001b[0m \u001b[0;34m=\u001b[0m \u001b[0mlire_alpha_digit\u001b[0m\u001b[0;34m(\u001b[0m\u001b[0;34m'./binaryalphadigs.mat'\u001b[0m\u001b[0;34m)\u001b[0m\u001b[0;34m\u001b[0m\u001b[0;34m\u001b[0m\u001b[0m\n\u001b[0m\u001b[1;32m      9\u001b[0m \u001b[0;34m\u001b[0m\u001b[0m\n\u001b[1;32m     10\u001b[0m     \u001b[0;31m# Initialisation des paramètres\u001b[0m\u001b[0;34m\u001b[0m\u001b[0;34m\u001b[0m\u001b[0;34m\u001b[0m\u001b[0m\n",
      "\u001b[0;32m<ipython-input-3-7d65ce2dbd2f>\u001b[0m in \u001b[0;36mlire_alpha_digit\u001b[0;34m(file)\u001b[0m\n\u001b[1;32m      6\u001b[0m \u001b[0;34m\u001b[0m\u001b[0m\n\u001b[1;32m      7\u001b[0m \u001b[0;32mdef\u001b[0m \u001b[0mlire_alpha_digit\u001b[0m\u001b[0;34m(\u001b[0m\u001b[0mfile\u001b[0m\u001b[0;34m)\u001b[0m\u001b[0;34m:\u001b[0m\u001b[0;34m\u001b[0m\u001b[0;34m\u001b[0m\u001b[0m\n\u001b[0;32m----> 8\u001b[0;31m     \u001b[0mX\u001b[0m \u001b[0;34m=\u001b[0m \u001b[0mpd\u001b[0m\u001b[0;34m.\u001b[0m\u001b[0mDataFrame\u001b[0m\u001b[0;34m(\u001b[0m\u001b[0mscipy\u001b[0m\u001b[0;34m.\u001b[0m\u001b[0mio\u001b[0m\u001b[0;34m.\u001b[0m\u001b[0mloadmat\u001b[0m\u001b[0;34m(\u001b[0m\u001b[0mfile\u001b[0m\u001b[0;34m)\u001b[0m\u001b[0;34m[\u001b[0m\u001b[0;34m'dat'\u001b[0m\u001b[0;34m]\u001b[0m\u001b[0;34m)\u001b[0m\u001b[0;34m\u001b[0m\u001b[0;34m\u001b[0m\u001b[0m\n\u001b[0m\u001b[1;32m      9\u001b[0m     \u001b[0mimages\u001b[0m \u001b[0;34m=\u001b[0m \u001b[0mpd\u001b[0m\u001b[0;34m.\u001b[0m\u001b[0mDataFrame\u001b[0m\u001b[0;34m(\u001b[0m\u001b[0mnp\u001b[0m\u001b[0;34m.\u001b[0m\u001b[0mzeros\u001b[0m\u001b[0;34m(\u001b[0m\u001b[0;34m(\u001b[0m\u001b[0;36m1404\u001b[0m\u001b[0;34m,\u001b[0m \u001b[0;36m20\u001b[0m\u001b[0;34m*\u001b[0m\u001b[0;36m16\u001b[0m\u001b[0;34m)\u001b[0m\u001b[0;34m,\u001b[0m \u001b[0mdtype\u001b[0m\u001b[0;34m=\u001b[0m\u001b[0mnp\u001b[0m\u001b[0;34m.\u001b[0m\u001b[0mint8\u001b[0m\u001b[0;34m)\u001b[0m\u001b[0;34m)\u001b[0m\u001b[0;34m\u001b[0m\u001b[0;34m\u001b[0m\u001b[0m\n\u001b[1;32m     10\u001b[0m     \u001b[0mligne\u001b[0m \u001b[0;34m=\u001b[0m \u001b[0;36m0\u001b[0m\u001b[0;34m\u001b[0m\u001b[0;34m\u001b[0m\u001b[0m\n",
      "\u001b[0;32m~/anaconda3/lib/python3.6/site-packages/scipy/io/matlab/mio.py\u001b[0m in \u001b[0;36mloadmat\u001b[0;34m(file_name, mdict, appendmat, **kwargs)\u001b[0m\n\u001b[1;32m    139\u001b[0m     \"\"\"\n\u001b[1;32m    140\u001b[0m     \u001b[0mvariable_names\u001b[0m \u001b[0;34m=\u001b[0m \u001b[0mkwargs\u001b[0m\u001b[0;34m.\u001b[0m\u001b[0mpop\u001b[0m\u001b[0;34m(\u001b[0m\u001b[0;34m'variable_names'\u001b[0m\u001b[0;34m,\u001b[0m \u001b[0;32mNone\u001b[0m\u001b[0;34m)\u001b[0m\u001b[0;34m\u001b[0m\u001b[0;34m\u001b[0m\u001b[0m\n\u001b[0;32m--> 141\u001b[0;31m     \u001b[0mMR\u001b[0m\u001b[0;34m,\u001b[0m \u001b[0mfile_opened\u001b[0m \u001b[0;34m=\u001b[0m \u001b[0mmat_reader_factory\u001b[0m\u001b[0;34m(\u001b[0m\u001b[0mfile_name\u001b[0m\u001b[0;34m,\u001b[0m \u001b[0mappendmat\u001b[0m\u001b[0;34m,\u001b[0m \u001b[0;34m**\u001b[0m\u001b[0mkwargs\u001b[0m\u001b[0;34m)\u001b[0m\u001b[0;34m\u001b[0m\u001b[0;34m\u001b[0m\u001b[0m\n\u001b[0m\u001b[1;32m    142\u001b[0m     \u001b[0mmatfile_dict\u001b[0m \u001b[0;34m=\u001b[0m \u001b[0mMR\u001b[0m\u001b[0;34m.\u001b[0m\u001b[0mget_variables\u001b[0m\u001b[0;34m(\u001b[0m\u001b[0mvariable_names\u001b[0m\u001b[0;34m)\u001b[0m\u001b[0;34m\u001b[0m\u001b[0;34m\u001b[0m\u001b[0m\n\u001b[1;32m    143\u001b[0m     \u001b[0;32mif\u001b[0m \u001b[0mmdict\u001b[0m \u001b[0;32mis\u001b[0m \u001b[0;32mnot\u001b[0m \u001b[0;32mNone\u001b[0m\u001b[0;34m:\u001b[0m\u001b[0;34m\u001b[0m\u001b[0;34m\u001b[0m\u001b[0m\n",
      "\u001b[0;32m~/anaconda3/lib/python3.6/site-packages/scipy/io/matlab/mio.py\u001b[0m in \u001b[0;36mmat_reader_factory\u001b[0;34m(file_name, appendmat, **kwargs)\u001b[0m\n\u001b[1;32m     62\u001b[0m \u001b[0;34m\u001b[0m\u001b[0m\n\u001b[1;32m     63\u001b[0m     \"\"\"\n\u001b[0;32m---> 64\u001b[0;31m     \u001b[0mbyte_stream\u001b[0m\u001b[0;34m,\u001b[0m \u001b[0mfile_opened\u001b[0m \u001b[0;34m=\u001b[0m \u001b[0m_open_file\u001b[0m\u001b[0;34m(\u001b[0m\u001b[0mfile_name\u001b[0m\u001b[0;34m,\u001b[0m \u001b[0mappendmat\u001b[0m\u001b[0;34m)\u001b[0m\u001b[0;34m\u001b[0m\u001b[0;34m\u001b[0m\u001b[0m\n\u001b[0m\u001b[1;32m     65\u001b[0m     \u001b[0mmjv\u001b[0m\u001b[0;34m,\u001b[0m \u001b[0mmnv\u001b[0m \u001b[0;34m=\u001b[0m \u001b[0mget_matfile_version\u001b[0m\u001b[0;34m(\u001b[0m\u001b[0mbyte_stream\u001b[0m\u001b[0;34m)\u001b[0m\u001b[0;34m\u001b[0m\u001b[0;34m\u001b[0m\u001b[0m\n\u001b[1;32m     66\u001b[0m     \u001b[0;32mif\u001b[0m \u001b[0mmjv\u001b[0m \u001b[0;34m==\u001b[0m \u001b[0;36m0\u001b[0m\u001b[0;34m:\u001b[0m\u001b[0;34m\u001b[0m\u001b[0;34m\u001b[0m\u001b[0m\n",
      "\u001b[0;31mTypeError\u001b[0m: 'NoneType' object is not iterable"
     ]
    }
   ],
   "source": [
    "images = principal_DBN_alpha()"
   ]
  },
  {
   "cell_type": "code",
   "execution_count": 19,
   "metadata": {},
   "outputs": [
    {
     "ename": "NameError",
     "evalue": "name 'images' is not defined",
     "output_type": "error",
     "traceback": [
      "\u001b[0;31m---------------------------------------------------------------------------\u001b[0m",
      "\u001b[0;31mNameError\u001b[0m                                 Traceback (most recent call last)",
      "\u001b[0;32m<ipython-input-19-4a7243982b72>\u001b[0m in \u001b[0;36m<module>\u001b[0;34m()\u001b[0m\n\u001b[0;32m----> 1\u001b[0;31m \u001b[0mdisplay\u001b[0m\u001b[0;34m(\u001b[0m\u001b[0mimages\u001b[0m\u001b[0;34m,\u001b[0m\u001b[0;34m[\u001b[0m\u001b[0;36m20\u001b[0m\u001b[0;34m,\u001b[0m\u001b[0;36m16\u001b[0m\u001b[0;34m]\u001b[0m\u001b[0;34m)\u001b[0m\u001b[0;34m\u001b[0m\u001b[0;34m\u001b[0m\u001b[0m\n\u001b[0m",
      "\u001b[0;31mNameError\u001b[0m: name 'images' is not defined"
     ]
    }
   ],
   "source": [
    "display(images,[20,16])"
   ]
  },
  {
   "cell_type": "markdown",
   "metadata": {},
   "source": [
    "## III.3) Construction d'un DNN et test sur MNIST"
   ]
  },
  {
   "cell_type": "code",
   "execution_count": 20,
   "metadata": {
    "collapsed": true
   },
   "outputs": [],
   "source": [
    "'''\n",
    "Input:\n",
    "    data_name : fichier de données\n",
    "    label_name : fichier des labels\n",
    "    nb_data : nombre d'images voulues\n",
    "Output:\n",
    "    4 matrices: X_train, X_test, Y_train, Y_test\n",
    "'''\n",
    "def load_data(data_name, label_name, nb_data):\n",
    "    train,train_labels = loadlocal_mnist(\n",
    "    images_path=data_name,\n",
    "    labels_path=label_name)\n",
    "    train = train[:nb_data, :]\n",
    "    train_labels = train_labels[:nb_data]\n",
    "    X_train, X_test, Y_train, Y_test = train_test_split(train, train_labels, test_size=0.2, random_state=42)\n",
    "    return X_train, X_test, Y_train, Y_test"
   ]
  },
  {
   "cell_type": "code",
   "execution_count": 21,
   "metadata": {
    "collapsed": true
   },
   "outputs": [],
   "source": [
    "'''\n",
    "Input: une matrice d'images en couleur\n",
    "Output: une matrice d'images en noir et blanc\n",
    "'''\n",
    "def convert_image(X):\n",
    "    comp = np.ones((X.shape[0], X.shape[1]))*10\n",
    "    X = X <= comp\n",
    "    return X"
   ]
  },
  {
   "cell_type": "code",
   "execution_count": 22,
   "metadata": {
    "collapsed": true
   },
   "outputs": [],
   "source": [
    "'''\n",
    "Input:\n",
    "    RBM: un RBM initialisé\n",
    "    X: une matrice d'images\n",
    "Output:\n",
    "    Matrice de probabilités de sortie à partir de la fonction softmax\n",
    "'''\n",
    "def calcul_softmax(RBM,X):\n",
    "    B = np.array([RBM.B]*X.shape[0])\n",
    "    numerator = np.exp(np.dot(X, RBM.W) + B)\n",
    "    denum = numerator.sum(1)\n",
    "    result = np.zeros(numerator.shape)\n",
    "    for i in range(result.shape[1]):\n",
    "        result[:,i] = denum           \n",
    "    return numerator/result"
   ]
  },
  {
   "cell_type": "code",
   "execution_count": 23,
   "metadata": {
    "collapsed": true
   },
   "outputs": [],
   "source": [
    "'''\n",
    "Input: \n",
    "    DNN : un DNN entrainé\n",
    "    X : une matrice d'images\n",
    "Output:\n",
    "    sorties : sorties de toutes les couches du réseau\n",
    "    probas : sortie de la dernière couche (prédiction)\n",
    "'''\n",
    "def entree_sortie_reseau(DNN,X):\n",
    "    sorties = []\n",
    "    for RBM in DNN[:-1]:\n",
    "        X = entree_sortie_RBM(X,RBM)\n",
    "        sorties.append(X)\n",
    "   \n",
    "    probas = calcul_softmax(DNN[-1],sorties[-1])\n",
    "    return sorties,probas"
   ]
  },
  {
   "cell_type": "code",
   "execution_count": 24,
   "metadata": {
    "collapsed": true
   },
   "outputs": [],
   "source": [
    "'''\n",
    "Input:\n",
    "    DNN : un DNN initialisé (et?) entrainé\n",
    "    nb_iter_grad : nombre d'itérations de la descente de gradient\n",
    "    mini_batch_size : taille du minibatch\n",
    "    X : une matrice d'images\n",
    "    label : les labels de nos données\n",
    "Output:\n",
    "    DNN : Un DNN ayant subit une rétropropagation\n",
    "    Entropie : liste des entropies croisées pour chaque itération\n",
    "'''\n",
    "def retropropagation(DNN,nb_iter_grad,alpha,mini_batch_size,X,label, test_mode=False):\n",
    "    \n",
    "    Entropie = []\n",
    "    for iteration in range(nb_iter_grad):\n",
    "        \n",
    "        # Pour shuffle X, on a aussi besoin de shuffle les labels. Donc on shuffle les indices, et on récupère les données dans cet ordre\n",
    "        l = np.arange(X.shape[0])\n",
    "        np.random.shuffle(l)\n",
    "        X = X[l,:]\n",
    "        label = label[l,:]\n",
    "    \n",
    "        n = len(X)\n",
    "        for batch in range(0,len(X),mini_batch_size):\n",
    "            # selection des données\n",
    "            donnees_batch = X[batch:min(batch + mini_batch_size, len(X))]\n",
    "            label_batch = label[batch:min(batch + mini_batch_size, len(X))]\n",
    "            sorties,probas = entree_sortie_reseau(DNN,donnees_batch)\n",
    "            \n",
    "            for i in range(len(DNN)-1,-1,-1):\n",
    "                old_DNN = DNN[:]\n",
    "                \n",
    "                #si dernière couche\n",
    "                if i == len(old_DNN)-1 :\n",
    "                    matrice_c = probas - label_batch\n",
    "                    der_W = np.dot(np.transpose(sorties[-1]),matrice_c)/donnees_batch.shape[0]\n",
    "                    der_b = np.sum(matrice_c,axis=0)/donnees_batch.shape[0]\n",
    "\n",
    "                #Pour les autres couches\n",
    "                else:\n",
    "                    if i == 0:\n",
    "                        data = donnees_batch\n",
    "                    else:\n",
    "                        data = sorties[i-1]\n",
    "                        \n",
    "                    h_1_h = sorties[i]*(1-sorties[i])\n",
    "                    transit = np.dot(matrice_c,np.transpose(old_DNN[i+1].W))\n",
    "                    matrice_c = transit*h_1_h\n",
    "                    \n",
    "                    der_W = np.dot(np.transpose(data),matrice_c)/donnees_batch.shape[0]\n",
    "                    der_b = np.sum(matrice_c,axis=0)/donnees_batch.shape[0]\n",
    "\n",
    "                old_DNN[i].W -= alpha*der_W\n",
    "                old_DNN[i].B -= alpha*der_b\n",
    "            \n",
    "        \n",
    "        DNN = old_DNN[:]\n",
    "        sortie,probas = entree_sortie_reseau(DNN,X)\n",
    "        entropie = np.sum(-np.sum(label*np.log10(probas),axis=0), axis=0)/n\n",
    "        print(entropie)\n",
    "        Entropie.append(entropie)\n",
    "  \n",
    "    return DNN,Entropie"
   ]
  },
  {
   "cell_type": "code",
   "execution_count": 25,
   "metadata": {
    "collapsed": true
   },
   "outputs": [],
   "source": [
    "'''\n",
    "Input : Liste des entropies croisées\n",
    "Output : trace l'évolution de l'entropie\n",
    "'''\n",
    "def tracer_entropie(Entropie):  \n",
    "    plt.plot(range(len(Entropie)), Entropie)\n",
    "    plt.legend(['Entropie'])\n",
    "    plt.title(\"Évolution de l'Entropie\")"
   ]
  },
  {
   "cell_type": "code",
   "execution_count": 26,
   "metadata": {
    "collapsed": true
   },
   "outputs": [],
   "source": [
    "'''\n",
    "Input:\n",
    "    DNN : un DNN entrainé et/ou ayant subit une rétropropagation\n",
    "    X_test : la matrice des données/images test\n",
    "    label_test : les labels associés\n",
    "Output:\n",
    "    Le taux de bonne prédiction\n",
    "'''\n",
    "def test_DNN(DNN, X_test, label_test):  \n",
    "    sorties, probas = entree_sortie_reseau(DNN, X_test)\n",
    "    index_max = np.argmax(probas, axis=1)\n",
    "    accuracy_rate = 0\n",
    "    for i, j in enumerate(index_max):\n",
    "        values = np.zeros((DNN[-1].W.shape[1]))\n",
    "        values[j] = 1\n",
    "        probas[i,:] = values\n",
    "    for labels in range(label_test.shape[0]):\n",
    "        if (probas[labels, :]==label_test[labels]).all():\n",
    "            accuracy_rate += 1\n",
    "    return accuracy_rate/label_test.shape[0]*100"
   ]
  },
  {
   "cell_type": "code",
   "execution_count": 27,
   "metadata": {
    "collapsed": true
   },
   "outputs": [],
   "source": [
    "def principal_DNN_MNIST():\n",
    "    \n",
    "    # Initialisation des paramètres\n",
    "    nb_iter = 150\n",
    "    alpha = 0.05\n",
    "    mini_batch_size = 10\n",
    "    nb_data_train = 1000\n",
    "    image_size = [28, 28]\n",
    "    nb_images = 10\n",
    "    nb_data_test = 20\n",
    "    \n",
    "    # Chargement des données\n",
    "    X_train, X_test, Y_train, Y_test = load_data('./train-images.idx3-ubyte', './train-labels.idx1-ubyte', nb_data_train)\n",
    "    X_train = convert_image(X_train)\n",
    "    X_test = convert_image(X_test)\n",
    "    \n",
    "    # Initialisation de la taille du réseau\n",
    "    network_layers = [X_train.shape[1], 200, 120, 60, 10]\n",
    "    \n",
    "    # Préparation des labels\n",
    "    Y_train_reshape = np.zeros((Y_train.shape[0], network_layers[-1]))\n",
    "    Y_test_reshape = np.zeros((Y_test.shape[0], network_layers[-1]))\n",
    "    for i in range(len(Y_train)):\n",
    "        Y_train_reshape[i, Y_train[i]] = 1\n",
    "    for i in range(len(Y_test)):\n",
    "        Y_test_reshape[i, Y_test[i]] = 1\n",
    "    \n",
    "    # On initialise le RBM\n",
    "    DNN = init_DNN(network_layers)\n",
    "    \n",
    "    # On l'entraine\n",
    "    #DNN = train_DBN(DNN,nb_iter,0.1,mini_batch_size,X_train)\n",
    "    \n",
    "    # On applique la rétro propagation\n",
    "    DNN = retropropagation(DNN,nb_iter,alpha,mini_batch_size,X_train,Y_train_reshape, test_mode=False)\n",
    "    \n",
    "    # On le test\n",
    "    rate = test_DNN(DNN, X_test, Y_test_reshape)\n",
    "    \n",
    "    return rate"
   ]
  },
  {
   "cell_type": "code",
   "execution_count": 29,
   "metadata": {
    "scrolled": false
   },
   "outputs": [
    {
     "name": "stdout",
     "output_type": "stream",
     "text": [
      "1.0003136931487646\n",
      "1.0036361015515105\n",
      "1.007212860073828\n",
      "1.0065544993361468\n",
      "1.0059523955586631\n",
      "1.0048923614499403\n",
      "1.0064922530857132\n",
      "1.014968983214994\n",
      "1.0117796432593804\n",
      "1.003040178285357\n",
      "1.0136657316019473\n",
      "1.0031129932268124\n",
      "1.0071244212891712\n",
      "1.0071864762029323\n",
      "1.0126400897919283\n",
      "1.000648663911541\n",
      "1.007539235905616\n",
      "1.0138250585031863\n",
      "1.0062936784119854\n",
      "1.0264872354591212\n",
      "1.0275474080334286\n",
      "1.0162861197648976\n",
      "1.0075845028226265\n",
      "1.0096079619644664\n",
      "1.0182608050041673\n",
      "1.0133615563479565\n",
      "1.0239441781034337\n",
      "1.0163216915584097\n",
      "1.0073177288950819\n",
      "1.0110910243041158\n",
      "1.0191805933030638\n",
      "1.0081757582927218\n",
      "1.0345012174928696\n",
      "1.027991693868284\n",
      "1.0161035829964242\n",
      "1.0184732577998588\n",
      "1.0205908039066895\n",
      "1.0189506539688973\n",
      "1.0100505956665378\n",
      "1.0125460861495725\n",
      "1.0190032664324895\n",
      "1.0299417167261362\n",
      "1.0105075898799036\n",
      "1.0062941604255315\n",
      "1.0131071113335002\n",
      "1.0082596491323152\n",
      "1.0191578854200856\n",
      "1.0163895500006768\n",
      "1.01292968079027\n",
      "1.046187663945038\n",
      "1.0220520886123488\n",
      "1.0205669408540894\n",
      "1.0042922303556785\n",
      "1.0135401856975068\n",
      "1.0322588435192852\n",
      "1.017793481597974\n",
      "1.0147762171780663\n",
      "1.0203405907598078\n",
      "1.0120174083212183\n",
      "1.0380741758845344\n",
      "1.0266525876823829\n",
      "1.014893230269624\n",
      "1.03152607009173\n",
      "1.041531481307358\n",
      "1.028021243405686\n",
      "1.0373564314869077\n",
      "1.0331572126650548\n",
      "1.0264181396831247\n",
      "1.0103767983034917\n",
      "1.0076197828956936\n",
      "1.0170774650648482\n",
      "1.0183943313692305\n",
      "1.0152599399332032\n",
      "1.0153491707215798\n",
      "1.018358790711929\n",
      "1.0339446007745499\n",
      "1.0194018972921783\n",
      "1.0161429975836072\n",
      "1.0217942337441155\n",
      "1.0123405888088484\n",
      "1.053714321158508\n",
      "1.0107437692180699\n",
      "1.0461181596541238\n",
      "1.0136716413096212\n",
      "1.0173395122030409\n",
      "1.0238640451371588\n",
      "1.0191855757710406\n",
      "1.0447968904855365\n",
      "1.033978395389431\n",
      "1.0274550431878833\n",
      "1.030543004364336\n",
      "1.0148416245194478\n",
      "1.0559051324243178\n",
      "1.0198349206227804\n",
      "1.0688803171001862\n",
      "1.0893637676214671\n",
      "1.0344396931160202\n",
      "1.0811709723725957\n",
      "1.0452888732575387\n",
      "1.035274184276185\n",
      "1.04594069822666\n",
      "1.0159962215401295\n",
      "1.0150730969888277\n",
      "1.0199915438419016\n",
      "1.048010749677939\n",
      "1.0138265253036987\n",
      "1.0152581485735936\n",
      "1.030133019977104\n",
      "1.038529767973458\n",
      "1.0277772529547873\n",
      "1.025515135587261\n",
      "1.0329039713978991\n",
      "1.0439644153581507\n",
      "1.019902064387329\n",
      "1.0331189446178914\n",
      "1.01235706797852\n",
      "1.041981445104841\n",
      "1.032066859703381\n",
      "1.0154404524969765\n",
      "1.0125394192186077\n",
      "1.0280074244413695\n",
      "1.015489906107807\n",
      "1.0132814482450672\n",
      "1.0108588446323716\n",
      "1.016156900048405\n",
      "1.0413697872122534\n",
      "1.0159325440549707\n",
      "1.0214508994037923\n",
      "1.0144788677212984\n",
      "1.013272156911514\n",
      "1.0202795867443841\n",
      "1.0210936613537542\n",
      "1.050139461799051\n",
      "1.0289098348708088\n",
      "1.0118589988410696\n",
      "1.0256201321540124\n",
      "1.0213239794781663\n",
      "1.026982947818485\n",
      "1.0544962875423634\n",
      "1.025009581295652\n",
      "1.0050839653079564\n",
      "1.0241485832361659\n",
      "1.0303888973719768\n",
      "1.01208235869907\n",
      "1.0443614952453597\n",
      "1.0091085047017847\n",
      "1.0303789609599927\n",
      "1.0308567909721382\n",
      "1.0199322550259418\n",
      "1.0321177241149722\n"
     ]
    },
    {
     "ename": "AttributeError",
     "evalue": "'list' object has no attribute 'B'",
     "output_type": "error",
     "traceback": [
      "\u001b[0;31m---------------------------------------------------------------------------\u001b[0m",
      "\u001b[0;31mAttributeError\u001b[0m                            Traceback (most recent call last)",
      "\u001b[0;32m<ipython-input-29-54280f92bf91>\u001b[0m in \u001b[0;36m<module>\u001b[0;34m()\u001b[0m\n\u001b[0;32m----> 1\u001b[0;31m \u001b[0mprincipal_DNN_MNIST\u001b[0m\u001b[0;34m(\u001b[0m\u001b[0;34m)\u001b[0m\u001b[0;34m\u001b[0m\u001b[0;34m\u001b[0m\u001b[0m\n\u001b[0m",
      "\u001b[0;32m<ipython-input-27-bb861ab27016>\u001b[0m in \u001b[0;36mprincipal_DNN_MNIST\u001b[0;34m()\u001b[0m\n\u001b[1;32m     36\u001b[0m \u001b[0;34m\u001b[0m\u001b[0m\n\u001b[1;32m     37\u001b[0m     \u001b[0;31m# On le test\u001b[0m\u001b[0;34m\u001b[0m\u001b[0;34m\u001b[0m\u001b[0;34m\u001b[0m\u001b[0m\n\u001b[0;32m---> 38\u001b[0;31m     \u001b[0mrate\u001b[0m \u001b[0;34m=\u001b[0m \u001b[0mtest_DNN\u001b[0m\u001b[0;34m(\u001b[0m\u001b[0mDNN\u001b[0m\u001b[0;34m,\u001b[0m \u001b[0mX_test\u001b[0m\u001b[0;34m,\u001b[0m \u001b[0mY_test_reshape\u001b[0m\u001b[0;34m)\u001b[0m\u001b[0;34m\u001b[0m\u001b[0;34m\u001b[0m\u001b[0m\n\u001b[0m\u001b[1;32m     39\u001b[0m \u001b[0;34m\u001b[0m\u001b[0m\n\u001b[1;32m     40\u001b[0m     \u001b[0;32mreturn\u001b[0m \u001b[0mrate\u001b[0m\u001b[0;34m\u001b[0m\u001b[0;34m\u001b[0m\u001b[0m\n",
      "\u001b[0;32m<ipython-input-26-333741523ffb>\u001b[0m in \u001b[0;36mtest_DNN\u001b[0;34m(DNN, X_test, label_test)\u001b[0m\n\u001b[1;32m      8\u001b[0m '''\n\u001b[1;32m      9\u001b[0m \u001b[0;32mdef\u001b[0m \u001b[0mtest_DNN\u001b[0m\u001b[0;34m(\u001b[0m\u001b[0mDNN\u001b[0m\u001b[0;34m,\u001b[0m \u001b[0mX_test\u001b[0m\u001b[0;34m,\u001b[0m \u001b[0mlabel_test\u001b[0m\u001b[0;34m)\u001b[0m\u001b[0;34m:\u001b[0m\u001b[0;34m\u001b[0m\u001b[0;34m\u001b[0m\u001b[0m\n\u001b[0;32m---> 10\u001b[0;31m     \u001b[0msorties\u001b[0m\u001b[0;34m,\u001b[0m \u001b[0mprobas\u001b[0m \u001b[0;34m=\u001b[0m \u001b[0mentree_sortie_reseau\u001b[0m\u001b[0;34m(\u001b[0m\u001b[0mDNN\u001b[0m\u001b[0;34m,\u001b[0m \u001b[0mX_test\u001b[0m\u001b[0;34m)\u001b[0m\u001b[0;34m\u001b[0m\u001b[0;34m\u001b[0m\u001b[0m\n\u001b[0m\u001b[1;32m     11\u001b[0m     \u001b[0mindex_max\u001b[0m \u001b[0;34m=\u001b[0m \u001b[0mnp\u001b[0m\u001b[0;34m.\u001b[0m\u001b[0margmax\u001b[0m\u001b[0;34m(\u001b[0m\u001b[0mprobas\u001b[0m\u001b[0;34m,\u001b[0m \u001b[0maxis\u001b[0m\u001b[0;34m=\u001b[0m\u001b[0;36m1\u001b[0m\u001b[0;34m)\u001b[0m\u001b[0;34m\u001b[0m\u001b[0;34m\u001b[0m\u001b[0m\n\u001b[1;32m     12\u001b[0m     \u001b[0maccuracy_rate\u001b[0m \u001b[0;34m=\u001b[0m \u001b[0;36m0\u001b[0m\u001b[0;34m\u001b[0m\u001b[0;34m\u001b[0m\u001b[0m\n",
      "\u001b[0;32m<ipython-input-23-f7dbaa4d55ba>\u001b[0m in \u001b[0;36mentree_sortie_reseau\u001b[0;34m(DNN, X)\u001b[0m\n\u001b[1;32m     10\u001b[0m     \u001b[0msorties\u001b[0m \u001b[0;34m=\u001b[0m \u001b[0;34m[\u001b[0m\u001b[0;34m]\u001b[0m\u001b[0;34m\u001b[0m\u001b[0;34m\u001b[0m\u001b[0m\n\u001b[1;32m     11\u001b[0m     \u001b[0;32mfor\u001b[0m \u001b[0mRBM\u001b[0m \u001b[0;32min\u001b[0m \u001b[0mDNN\u001b[0m\u001b[0;34m[\u001b[0m\u001b[0;34m:\u001b[0m\u001b[0;34m-\u001b[0m\u001b[0;36m1\u001b[0m\u001b[0;34m]\u001b[0m\u001b[0;34m:\u001b[0m\u001b[0;34m\u001b[0m\u001b[0;34m\u001b[0m\u001b[0m\n\u001b[0;32m---> 12\u001b[0;31m         \u001b[0mX\u001b[0m \u001b[0;34m=\u001b[0m \u001b[0mentree_sortie_RBM\u001b[0m\u001b[0;34m(\u001b[0m\u001b[0mX\u001b[0m\u001b[0;34m,\u001b[0m\u001b[0mRBM\u001b[0m\u001b[0;34m)\u001b[0m\u001b[0;34m\u001b[0m\u001b[0;34m\u001b[0m\u001b[0m\n\u001b[0m\u001b[1;32m     13\u001b[0m         \u001b[0msorties\u001b[0m\u001b[0;34m.\u001b[0m\u001b[0mappend\u001b[0m\u001b[0;34m(\u001b[0m\u001b[0mX\u001b[0m\u001b[0;34m)\u001b[0m\u001b[0;34m\u001b[0m\u001b[0;34m\u001b[0m\u001b[0m\n\u001b[1;32m     14\u001b[0m \u001b[0;34m\u001b[0m\u001b[0m\n",
      "\u001b[0;32m<ipython-input-5-96321d3775c3>\u001b[0m in \u001b[0;36mentree_sortie_RBM\u001b[0;34m(X, RBM)\u001b[0m\n\u001b[1;32m     11\u001b[0m \u001b[0;34m\u001b[0m\u001b[0m\n\u001b[1;32m     12\u001b[0m \u001b[0;32mdef\u001b[0m \u001b[0mentree_sortie_RBM\u001b[0m\u001b[0;34m(\u001b[0m\u001b[0mX\u001b[0m\u001b[0;34m,\u001b[0m\u001b[0mRBM\u001b[0m\u001b[0;34m)\u001b[0m\u001b[0;34m:\u001b[0m\u001b[0;34m\u001b[0m\u001b[0;34m\u001b[0m\u001b[0m\n\u001b[0;32m---> 13\u001b[0;31m     \u001b[0mB\u001b[0m \u001b[0;34m=\u001b[0m \u001b[0mnp\u001b[0m\u001b[0;34m.\u001b[0m\u001b[0marray\u001b[0m\u001b[0;34m(\u001b[0m\u001b[0;34m[\u001b[0m\u001b[0mRBM\u001b[0m\u001b[0;34m.\u001b[0m\u001b[0mB\u001b[0m\u001b[0;34m]\u001b[0m\u001b[0;34m*\u001b[0m\u001b[0mX\u001b[0m\u001b[0;34m.\u001b[0m\u001b[0mshape\u001b[0m\u001b[0;34m[\u001b[0m\u001b[0;36m0\u001b[0m\u001b[0;34m]\u001b[0m\u001b[0;34m)\u001b[0m\u001b[0;34m\u001b[0m\u001b[0;34m\u001b[0m\u001b[0m\n\u001b[0m\u001b[1;32m     14\u001b[0m     \u001b[0;32mreturn\u001b[0m \u001b[0msigmoid\u001b[0m\u001b[0;34m(\u001b[0m\u001b[0mnp\u001b[0m\u001b[0;34m.\u001b[0m\u001b[0mdot\u001b[0m\u001b[0;34m(\u001b[0m\u001b[0mX\u001b[0m\u001b[0;34m,\u001b[0m\u001b[0mRBM\u001b[0m\u001b[0;34m.\u001b[0m\u001b[0mW\u001b[0m\u001b[0;34m)\u001b[0m \u001b[0;34m-\u001b[0m \u001b[0mB\u001b[0m\u001b[0;34m)\u001b[0m\u001b[0;34m\u001b[0m\u001b[0;34m\u001b[0m\u001b[0m\n",
      "\u001b[0;31mAttributeError\u001b[0m: 'list' object has no attribute 'B'"
     ]
    }
   ],
   "source": [
    "principal_DNN_MNIST()"
   ]
  },
  {
   "cell_type": "markdown",
   "metadata": {},
   "source": [
    "# IV) Travail préliminaire (Binary AlphaDigit)"
   ]
  },
  {
   "cell_type": "markdown",
   "metadata": {},
   "source": [
    "# V) Étude à réaliser (MNIST)"
   ]
  },
  {
   "cell_type": "code",
   "execution_count": null,
   "metadata": {
    "collapsed": true
   },
   "outputs": [],
   "source": []
  }
 ],
 "metadata": {
  "kernelspec": {
   "display_name": "Python 3",
   "language": "python",
   "name": "python3"
  },
  "language_info": {
   "codemirror_mode": {
    "name": "ipython",
    "version": 3
   },
   "file_extension": ".py",
   "mimetype": "text/x-python",
   "name": "python",
   "nbconvert_exporter": "python",
   "pygments_lexer": "ipython3",
   "version": "3.6.8"
  }
 },
 "nbformat": 4,
 "nbformat_minor": 2
}
